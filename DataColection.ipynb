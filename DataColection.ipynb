{
 "cells": [
  {
   "cell_type": "code",
   "execution_count": 2,
   "id": "2bca3b4f",
   "metadata": {},
   "outputs": [
    {
     "name": "stdout",
     "output_type": "stream",
     "text": [
      "Collecting yfinance\n",
      "  Downloading yfinance-0.2.11-py2.py3-none-any.whl (59 kB)\n",
      "     ---------------------------------------- 59.2/59.2 kB 1.6 MB/s eta 0:00:00\n",
      "Collecting multitasking>=0.0.7\n",
      "  Using cached multitasking-0.0.11-py3-none-any.whl (8.5 kB)\n",
      "Requirement already satisfied: lxml>=4.9.1 in c:\\users\\tylerreichardt\\anaconda3\\lib\\site-packages (from yfinance) (4.9.1)\n",
      "Requirement already satisfied: numpy>=1.16.5 in c:\\users\\tylerreichardt\\anaconda3\\lib\\site-packages (from yfinance) (1.21.5)\n",
      "Collecting html5lib>=1.1\n",
      "  Using cached html5lib-1.1-py2.py3-none-any.whl (112 kB)\n",
      "Requirement already satisfied: appdirs>=1.4.4 in c:\\users\\tylerreichardt\\anaconda3\\lib\\site-packages (from yfinance) (1.4.4)\n",
      "Requirement already satisfied: cryptography>=3.3.2 in c:\\users\\tylerreichardt\\anaconda3\\lib\\site-packages (from yfinance) (37.0.1)\n",
      "Requirement already satisfied: pandas>=1.3.0 in c:\\users\\tylerreichardt\\anaconda3\\lib\\site-packages (from yfinance) (1.4.4)\n",
      "Collecting frozendict>=2.3.4\n",
      "  Using cached frozendict-2.3.4-cp39-cp39-win_amd64.whl (35 kB)\n",
      "Requirement already satisfied: requests>=2.26 in c:\\users\\tylerreichardt\\anaconda3\\lib\\site-packages (from yfinance) (2.28.1)\n",
      "Requirement already satisfied: pytz>=2022.5 in c:\\users\\tylerreichardt\\appdata\\roaming\\python\\python39\\site-packages (from yfinance) (2022.6)\n",
      "Requirement already satisfied: beautifulsoup4>=4.11.1 in c:\\users\\tylerreichardt\\anaconda3\\lib\\site-packages (from yfinance) (4.11.1)\n",
      "Requirement already satisfied: soupsieve>1.2 in c:\\users\\tylerreichardt\\anaconda3\\lib\\site-packages (from beautifulsoup4>=4.11.1->yfinance) (2.3.1)\n",
      "Requirement already satisfied: cffi>=1.12 in c:\\users\\tylerreichardt\\anaconda3\\lib\\site-packages (from cryptography>=3.3.2->yfinance) (1.15.1)\n",
      "Requirement already satisfied: webencodings in c:\\users\\tylerreichardt\\anaconda3\\lib\\site-packages (from html5lib>=1.1->yfinance) (0.5.1)\n",
      "Requirement already satisfied: six>=1.9 in c:\\users\\tylerreichardt\\appdata\\roaming\\python\\python39\\site-packages (from html5lib>=1.1->yfinance) (1.16.0)\n",
      "Requirement already satisfied: python-dateutil>=2.8.1 in c:\\users\\tylerreichardt\\appdata\\roaming\\python\\python39\\site-packages (from pandas>=1.3.0->yfinance) (2.8.2)\n",
      "Requirement already satisfied: charset-normalizer<3,>=2 in c:\\users\\tylerreichardt\\anaconda3\\lib\\site-packages (from requests>=2.26->yfinance) (2.0.4)\n",
      "Requirement already satisfied: urllib3<1.27,>=1.21.1 in c:\\users\\tylerreichardt\\anaconda3\\lib\\site-packages (from requests>=2.26->yfinance) (1.26.11)\n",
      "Requirement already satisfied: idna<4,>=2.5 in c:\\users\\tylerreichardt\\anaconda3\\lib\\site-packages (from requests>=2.26->yfinance) (3.3)\n",
      "Requirement already satisfied: certifi>=2017.4.17 in c:\\users\\tylerreichardt\\anaconda3\\lib\\site-packages (from requests>=2.26->yfinance) (2022.9.14)\n",
      "Requirement already satisfied: pycparser in c:\\users\\tylerreichardt\\anaconda3\\lib\\site-packages (from cffi>=1.12->cryptography>=3.3.2->yfinance) (2.21)\n",
      "Installing collected packages: multitasking, html5lib, frozendict, yfinance\n",
      "Successfully installed frozendict-2.3.4 html5lib-1.1 multitasking-0.0.11 yfinance-0.2.11\n",
      "Note: you may need to restart the kernel to use updated packages.\n"
     ]
    }
   ],
   "source": [
    "%pip install yfinance"
   ]
  },
  {
   "cell_type": "code",
   "execution_count": 3,
   "id": "daddd356-0c02-4d14-b91b-65700ca9942f",
   "metadata": {},
   "outputs": [],
   "source": [
    "import numpy as np\n",
    "import pandas as pd\n",
    "\n",
    "# To fetch financial data\n",
    "import yfinance as yf\n"
   ]
  },
  {
   "cell_type": "code",
   "execution_count": 4,
   "id": "be938496-39d9-4193-8c28-65aa56a204d6",
   "metadata": {},
   "outputs": [
    {
     "name": "stdout",
     "output_type": "stream",
     "text": [
      "[*********************100%***********************]  1 of 1 completed\n"
     ]
    },
    {
     "data": {
      "text/html": [
       "<div>\n",
       "<style scoped>\n",
       "    .dataframe tbody tr th:only-of-type {\n",
       "        vertical-align: middle;\n",
       "    }\n",
       "\n",
       "    .dataframe tbody tr th {\n",
       "        vertical-align: top;\n",
       "    }\n",
       "\n",
       "    .dataframe thead th {\n",
       "        text-align: right;\n",
       "    }\n",
       "</style>\n",
       "<table border=\"1\" class=\"dataframe\">\n",
       "  <thead>\n",
       "    <tr style=\"text-align: right;\">\n",
       "      <th></th>\n",
       "      <th>Open</th>\n",
       "      <th>High</th>\n",
       "      <th>Low</th>\n",
       "      <th>Close</th>\n",
       "      <th>Adj Close</th>\n",
       "      <th>Volume</th>\n",
       "    </tr>\n",
       "    <tr>\n",
       "      <th>Datetime</th>\n",
       "      <th></th>\n",
       "      <th></th>\n",
       "      <th></th>\n",
       "      <th></th>\n",
       "      <th></th>\n",
       "      <th></th>\n",
       "    </tr>\n",
       "  </thead>\n",
       "  <tbody>\n",
       "    <tr>\n",
       "      <th>2023-02-02 23:54:00-05:00</th>\n",
       "      <td>1929.900024</td>\n",
       "      <td>1930.400024</td>\n",
       "      <td>1929.800049</td>\n",
       "      <td>1930.199951</td>\n",
       "      <td>1930.199951</td>\n",
       "      <td>170</td>\n",
       "    </tr>\n",
       "    <tr>\n",
       "      <th>2023-02-02 23:55:00-05:00</th>\n",
       "      <td>1930.099976</td>\n",
       "      <td>1930.400024</td>\n",
       "      <td>1929.800049</td>\n",
       "      <td>1930.099976</td>\n",
       "      <td>1930.099976</td>\n",
       "      <td>157</td>\n",
       "    </tr>\n",
       "    <tr>\n",
       "      <th>2023-02-02 23:56:00-05:00</th>\n",
       "      <td>1930.099976</td>\n",
       "      <td>1930.099976</td>\n",
       "      <td>1929.400024</td>\n",
       "      <td>1929.500000</td>\n",
       "      <td>1929.500000</td>\n",
       "      <td>83</td>\n",
       "    </tr>\n",
       "    <tr>\n",
       "      <th>2023-02-02 23:57:00-05:00</th>\n",
       "      <td>1929.599976</td>\n",
       "      <td>1929.800049</td>\n",
       "      <td>1929.599976</td>\n",
       "      <td>1929.800049</td>\n",
       "      <td>1929.800049</td>\n",
       "      <td>35</td>\n",
       "    </tr>\n",
       "    <tr>\n",
       "      <th>2023-02-02 23:58:00-05:00</th>\n",
       "      <td>1929.699951</td>\n",
       "      <td>1930.400024</td>\n",
       "      <td>1929.699951</td>\n",
       "      <td>1930.099976</td>\n",
       "      <td>1930.099976</td>\n",
       "      <td>92</td>\n",
       "    </tr>\n",
       "  </tbody>\n",
       "</table>\n",
       "</div>"
      ],
      "text/plain": [
       "                                  Open         High          Low        Close  \\\n",
       "Datetime                                                                        \n",
       "2023-02-02 23:54:00-05:00  1929.900024  1930.400024  1929.800049  1930.199951   \n",
       "2023-02-02 23:55:00-05:00  1930.099976  1930.400024  1929.800049  1930.099976   \n",
       "2023-02-02 23:56:00-05:00  1930.099976  1930.099976  1929.400024  1929.500000   \n",
       "2023-02-02 23:57:00-05:00  1929.599976  1929.800049  1929.599976  1929.800049   \n",
       "2023-02-02 23:58:00-05:00  1929.699951  1930.400024  1929.699951  1930.099976   \n",
       "\n",
       "                             Adj Close  Volume  \n",
       "Datetime                                        \n",
       "2023-02-02 23:54:00-05:00  1930.199951     170  \n",
       "2023-02-02 23:55:00-05:00  1930.099976     157  \n",
       "2023-02-02 23:56:00-05:00  1929.500000      83  \n",
       "2023-02-02 23:57:00-05:00  1929.800049      35  \n",
       "2023-02-02 23:58:00-05:00  1930.099976      92  "
      ]
     },
     "execution_count": 4,
     "metadata": {},
     "output_type": "execute_result"
    }
   ],
   "source": [
    "# Set the ticker as 'EURUSD=X'\n",
    "forex_data_minute = yf.download('GC=F', start=\"2023-01-31\", end=\"2023-02-03\", interval='1m')\n",
    "\n",
    "# Set the index to a datetime object\n",
    "forex_data_minute.index = pd.to_datetime(forex_data_minute.index)\n",
    "\n",
    "# Display the last five rows\n",
    "forex_data_minute.tail()"
   ]
  },
  {
   "cell_type": "code",
   "execution_count": 3,
   "id": "ff2299e7-aebb-47e3-8a78-63f53142e183",
   "metadata": {},
   "outputs": [],
   "source": [
    "forex_data_minute.to_csv('w3Jan.csv', sep=',', index=True)"
   ]
  },
  {
   "cell_type": "code",
   "execution_count": null,
   "id": "0f9045eb-11fe-4c05-b4f4-8955c7c5b81f",
   "metadata": {},
   "outputs": [],
   "source": []
  }
 ],
 "metadata": {
  "kernelspec": {
   "display_name": "Python 3 (ipykernel)",
   "language": "python",
   "name": "python3"
  },
  "language_info": {
   "codemirror_mode": {
    "name": "ipython",
    "version": 3
   },
   "file_extension": ".py",
   "mimetype": "text/x-python",
   "name": "python",
   "nbconvert_exporter": "python",
   "pygments_lexer": "ipython3",
   "version": "3.9.13"
  }
 },
 "nbformat": 4,
 "nbformat_minor": 5
}
