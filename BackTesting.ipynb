{
 "cells": [
  {
   "cell_type": "code",
   "execution_count": 52,
   "id": "1bb6295f",
   "metadata": {},
   "outputs": [
    {
     "name": "stdout",
     "output_type": "stream",
     "text": [
      "Requirement already satisfied: backtesting in c:\\users\\tyler\\anaconda3\\lib\\site-packages (0.3.3)\n",
      "Requirement already satisfied: bokeh>=1.4.0 in c:\\users\\tyler\\anaconda3\\lib\\site-packages (from backtesting) (2.4.3)\n",
      "Requirement already satisfied: numpy>=1.17.0 in c:\\users\\tyler\\anaconda3\\lib\\site-packages (from backtesting) (1.24.2)\n",
      "Requirement already satisfied: pandas!=0.25.0,>=0.25.0 in c:\\users\\tyler\\anaconda3\\lib\\site-packages (from backtesting) (1.4.4)\n",
      "Requirement already satisfied: tornado>=5.1 in c:\\users\\tyler\\anaconda3\\lib\\site-packages (from bokeh>=1.4.0->backtesting) (6.1)\n",
      "Requirement already satisfied: pillow>=7.1.0 in c:\\users\\tyler\\anaconda3\\lib\\site-packages (from bokeh>=1.4.0->backtesting) (9.2.0)\n",
      "Requirement already satisfied: Jinja2>=2.9 in c:\\users\\tyler\\anaconda3\\lib\\site-packages (from bokeh>=1.4.0->backtesting) (2.11.3)\n",
      "Requirement already satisfied: typing-extensions>=3.10.0 in c:\\users\\tyler\\anaconda3\\lib\\site-packages (from bokeh>=1.4.0->backtesting) (4.3.0)\n",
      "Requirement already satisfied: packaging>=16.8 in c:\\users\\tyler\\anaconda3\\lib\\site-packages (from bokeh>=1.4.0->backtesting) (21.3)\n",
      "Requirement already satisfied: PyYAML>=3.10 in c:\\users\\tyler\\anaconda3\\lib\\site-packages (from bokeh>=1.4.0->backtesting) (6.0)\n",
      "Requirement already satisfied: pytz>=2020.1 in c:\\users\\tyler\\anaconda3\\lib\\site-packages (from pandas!=0.25.0,>=0.25.0->backtesting) (2022.7.1)\n",
      "Requirement already satisfied: python-dateutil>=2.8.1 in c:\\users\\tyler\\anaconda3\\lib\\site-packages (from pandas!=0.25.0,>=0.25.0->backtesting) (2.8.2)\n",
      "Requirement already satisfied: MarkupSafe>=0.23 in c:\\users\\tyler\\anaconda3\\lib\\site-packages (from Jinja2>=2.9->bokeh>=1.4.0->backtesting) (2.0.1)\n",
      "Requirement already satisfied: pyparsing!=3.0.5,>=2.0.2 in c:\\users\\tyler\\anaconda3\\lib\\site-packages (from packaging>=16.8->bokeh>=1.4.0->backtesting) (3.0.9)\n",
      "Requirement already satisfied: six>=1.5 in c:\\users\\tyler\\anaconda3\\lib\\site-packages (from python-dateutil>=2.8.1->pandas!=0.25.0,>=0.25.0->backtesting) (1.16.0)\n",
      "Note: you may need to restart the kernel to use updated packages.\n"
     ]
    }
   ],
   "source": [
    "%pip install backtesting"
   ]
  },
  {
   "cell_type": "code",
   "execution_count": 53,
   "id": "8a1876b1-7d6d-40fe-b5fc-2d86ab3c26e2",
   "metadata": {},
   "outputs": [],
   "source": [
    "import numpy as np\n",
    "import pandas as pd\n",
    "from backtesting import Backtest\n",
    "# \n",
    "# List of file names\n",
    "files = ['w1Jan.csv', 'w2Jan.csv', 'w3Jan.csv','w4Jan.csv','goldRush.csv']\n",
    "\n",
    "# Create an empty list to store the dataframes\n",
    "df_list = []\n",
    "\n",
    "# Loop through the list of files and read each file into a dataframe\n",
    "for file in files:\n",
    "    df = pd.read_csv(file)\n",
    "    df_list.append(df)\n",
    "\n",
    "# Concatenate the dataframes in the list\n",
    "data = pd.concat(df_list)\n",
    "\n",
    "# Reset the index\n",
    "data.reset_index(drop=True, inplace=True)\n",
    "# Load the stock market data\n",
    "# data = pd.read_csv('goldRush.csv')\n",
    "\n",
    "def calculate_atr(df, period):\n",
    "    true_range = np.maximum(df['High'] - df['Low'], df['High'] - df['Close'].shift(1), df['Close'].shift(1) - df['Low'])\n",
    "    atr = true_range.rolling(window=period).mean()\n",
    "    return atr\n",
    "\n",
    "def atr_trailing_stop(src, atr):\n",
    "    x_atr_trailing_stop = 0.0\n",
    "    # n_loss = atr * 1\n",
    "    result = []\n",
    "    src=src.values\n",
    "    atr=atr.values\n",
    "    for i in range(len(src)):\n",
    "        n_loss = atr[i]\n",
    "        if i == 0:\n",
    "            result.append(x_atr_trailing_stop)\n",
    "        else:\n",
    "            if src[i] > src[i-1] and src[i-1] > x_atr_trailing_stop:\n",
    "                x_atr_trailing_stop = max(x_atr_trailing_stop, src[i] - n_loss)\n",
    "            elif src[i] < src[i-1] and src[i-1] < x_atr_trailing_stop:\n",
    "                x_atr_trailing_stop = min(x_atr_trailing_stop, src[i] + n_loss)\n",
    "            elif src[i] > src[i-1]:\n",
    "                x_atr_trailing_stop = src[i] - n_loss\n",
    "            else:\n",
    "                x_atr_trailing_stop = src[i] + n_loss\n",
    "            result.append(x_atr_trailing_stop)\n",
    "    return result\n",
    "\n",
    "def ema(close_price):\n",
    "    ema = close_price[0]\n",
    "    ema_values = [ema]\n",
    "    for i in range(1, len(close_price)):\n",
    "        ema = ema * (1 - 1/1) + close_price[i] * (1/1)\n",
    "        ema_values.append(ema)\n",
    "    return ema_values\n",
    "\n",
    "\n",
    "# Calculate the Average True Range (ATR) indicator\n",
    "atr = calculate_atr(data, 10)\n",
    "data['ATR'] = atr\n",
    "\n",
    "# Calculate the ATR Trailing Stop indicator\n",
    "src = data['Close']\n",
    "atr_trailing_stop = atr_trailing_stop(src, atr)\n",
    "data['ATR_Trailing_Stop'] = atr_trailing_stop\n",
    "\n",
    "\n",
    "ema = ema(src)\n",
    "data['EMA'] = ema\n",
    "\n",
    "def buy_sell_signals(src, xATRTrailingStop, ema):\n",
    "    above_below =''\n",
    "    res = []\n",
    "    last_signal = 0;\n",
    "    for i in range(len(src)):\n",
    "        # print(i)\n",
    "        if i !=0:\n",
    "            \n",
    "            if (src[i] > xATRTrailingStop[i] and ema[i] > xATRTrailingStop[i] and ema[i-1]<xATRTrailingStop[i-1]):\n",
    "                above_below = 'above'\n",
    "                if last_signal!=1:\n",
    "                    res.append(1)\n",
    "                    last_signal = 1\n",
    "                else:\n",
    "                    res.append(0)\n",
    "            elif (src[i] < xATRTrailingStop[i] and ema[i] < xATRTrailingStop[i] and ema[i-1]<xATRTrailingStop[i-1]):\n",
    "                above_below = 'below'\n",
    "                if last_signal!=-1:\n",
    "                    res.append(-1)\n",
    "                    last_signal = -1\n",
    "                else:\n",
    "                    res.append(0)\n",
    "            else:\n",
    "                res.append(0)\n",
    "                last_signal = 0\n",
    "        if i==0:\n",
    "            res.append(0)\n",
    "        \n",
    "    return res\n",
    "\n",
    "signals = buy_sell_signals(src, atr_trailing_stop, ema)\n",
    "data['signal'] = signals"
   ]
  },
  {
   "cell_type": "code",
   "execution_count": 54,
   "id": "c031a04a-6ba3-44f2-9f04-d1bb29e5945c",
   "metadata": {},
   "outputs": [
    {
     "data": {
      "text/html": [
       "<div>\n",
       "<style scoped>\n",
       "    .dataframe tbody tr th:only-of-type {\n",
       "        vertical-align: middle;\n",
       "    }\n",
       "\n",
       "    .dataframe tbody tr th {\n",
       "        vertical-align: top;\n",
       "    }\n",
       "\n",
       "    .dataframe thead th {\n",
       "        text-align: right;\n",
       "    }\n",
       "</style>\n",
       "<table border=\"1\" class=\"dataframe\">\n",
       "  <thead>\n",
       "    <tr style=\"text-align: right;\">\n",
       "      <th></th>\n",
       "      <th>Open</th>\n",
       "      <th>High</th>\n",
       "      <th>Low</th>\n",
       "      <th>Close</th>\n",
       "      <th>Adj Close</th>\n",
       "      <th>Volume</th>\n",
       "      <th>ATR</th>\n",
       "      <th>ATR_Trailing_Stop</th>\n",
       "      <th>EMA</th>\n",
       "      <th>signal</th>\n",
       "    </tr>\n",
       "    <tr>\n",
       "      <th>Datetime</th>\n",
       "      <th></th>\n",
       "      <th></th>\n",
       "      <th></th>\n",
       "      <th></th>\n",
       "      <th></th>\n",
       "      <th></th>\n",
       "      <th></th>\n",
       "      <th></th>\n",
       "      <th></th>\n",
       "      <th></th>\n",
       "    </tr>\n",
       "  </thead>\n",
       "  <tbody>\n",
       "    <tr>\n",
       "      <th>2023-01-16 00:00:00-05:00</th>\n",
       "      <td>1925.199951</td>\n",
       "      <td>1925.300049</td>\n",
       "      <td>1924.900024</td>\n",
       "      <td>1925.000000</td>\n",
       "      <td>1925.000000</td>\n",
       "      <td>0</td>\n",
       "      <td>NaN</td>\n",
       "      <td>0.000000</td>\n",
       "      <td>1925.000000</td>\n",
       "      <td>0</td>\n",
       "    </tr>\n",
       "    <tr>\n",
       "      <th>2023-01-16 00:01:00-05:00</th>\n",
       "      <td>1924.900024</td>\n",
       "      <td>1924.900024</td>\n",
       "      <td>1924.500000</td>\n",
       "      <td>1924.599976</td>\n",
       "      <td>1924.599976</td>\n",
       "      <td>95</td>\n",
       "      <td>NaN</td>\n",
       "      <td>NaN</td>\n",
       "      <td>1924.599976</td>\n",
       "      <td>0</td>\n",
       "    </tr>\n",
       "    <tr>\n",
       "      <th>2023-01-16 00:02:00-05:00</th>\n",
       "      <td>1924.599976</td>\n",
       "      <td>1924.599976</td>\n",
       "      <td>1923.900024</td>\n",
       "      <td>1923.900024</td>\n",
       "      <td>1923.900024</td>\n",
       "      <td>132</td>\n",
       "      <td>NaN</td>\n",
       "      <td>NaN</td>\n",
       "      <td>1923.900024</td>\n",
       "      <td>0</td>\n",
       "    </tr>\n",
       "    <tr>\n",
       "      <th>2023-01-16 00:03:00-05:00</th>\n",
       "      <td>1923.900024</td>\n",
       "      <td>1924.099976</td>\n",
       "      <td>1923.800049</td>\n",
       "      <td>1923.800049</td>\n",
       "      <td>1923.800049</td>\n",
       "      <td>105</td>\n",
       "      <td>NaN</td>\n",
       "      <td>NaN</td>\n",
       "      <td>1923.800049</td>\n",
       "      <td>0</td>\n",
       "    </tr>\n",
       "    <tr>\n",
       "      <th>2023-01-16 00:04:00-05:00</th>\n",
       "      <td>1923.800049</td>\n",
       "      <td>1923.800049</td>\n",
       "      <td>1923.300049</td>\n",
       "      <td>1923.300049</td>\n",
       "      <td>1923.300049</td>\n",
       "      <td>71</td>\n",
       "      <td>NaN</td>\n",
       "      <td>NaN</td>\n",
       "      <td>1923.300049</td>\n",
       "      <td>0</td>\n",
       "    </tr>\n",
       "    <tr>\n",
       "      <th>...</th>\n",
       "      <td>...</td>\n",
       "      <td>...</td>\n",
       "      <td>...</td>\n",
       "      <td>...</td>\n",
       "      <td>...</td>\n",
       "      <td>...</td>\n",
       "      <td>...</td>\n",
       "      <td>...</td>\n",
       "      <td>...</td>\n",
       "      <td>...</td>\n",
       "    </tr>\n",
       "    <tr>\n",
       "      <th>2023-02-10 16:55:00-05:00</th>\n",
       "      <td>1876.099976</td>\n",
       "      <td>1876.400024</td>\n",
       "      <td>1876.000000</td>\n",
       "      <td>1876.300049</td>\n",
       "      <td>1876.300049</td>\n",
       "      <td>34</td>\n",
       "      <td>0.300012</td>\n",
       "      <td>1876.600061</td>\n",
       "      <td>1876.300049</td>\n",
       "      <td>-1</td>\n",
       "    </tr>\n",
       "    <tr>\n",
       "      <th>2023-02-10 16:56:00-05:00</th>\n",
       "      <td>1876.300049</td>\n",
       "      <td>1876.500000</td>\n",
       "      <td>1876.199951</td>\n",
       "      <td>1876.300049</td>\n",
       "      <td>1876.300049</td>\n",
       "      <td>15</td>\n",
       "      <td>0.320020</td>\n",
       "      <td>1876.620068</td>\n",
       "      <td>1876.300049</td>\n",
       "      <td>0</td>\n",
       "    </tr>\n",
       "    <tr>\n",
       "      <th>2023-02-10 16:57:00-05:00</th>\n",
       "      <td>1876.300049</td>\n",
       "      <td>1876.599976</td>\n",
       "      <td>1876.099976</td>\n",
       "      <td>1876.199951</td>\n",
       "      <td>1876.199951</td>\n",
       "      <td>58</td>\n",
       "      <td>0.370020</td>\n",
       "      <td>1876.569971</td>\n",
       "      <td>1876.199951</td>\n",
       "      <td>0</td>\n",
       "    </tr>\n",
       "    <tr>\n",
       "      <th>2023-02-10 16:58:00-05:00</th>\n",
       "      <td>1876.099976</td>\n",
       "      <td>1876.300049</td>\n",
       "      <td>1876.000000</td>\n",
       "      <td>1876.300049</td>\n",
       "      <td>1876.300049</td>\n",
       "      <td>5</td>\n",
       "      <td>0.370032</td>\n",
       "      <td>1875.930017</td>\n",
       "      <td>1876.300049</td>\n",
       "      <td>1</td>\n",
       "    </tr>\n",
       "    <tr>\n",
       "      <th>2023-02-10 16:59:00-05:00</th>\n",
       "      <td>1876.300049</td>\n",
       "      <td>1876.699951</td>\n",
       "      <td>1874.500000</td>\n",
       "      <td>1876.400024</td>\n",
       "      <td>1876.400024</td>\n",
       "      <td>150183</td>\n",
       "      <td>0.540027</td>\n",
       "      <td>1875.930017</td>\n",
       "      <td>1876.400024</td>\n",
       "      <td>0</td>\n",
       "    </tr>\n",
       "  </tbody>\n",
       "</table>\n",
       "<p>27299 rows × 10 columns</p>\n",
       "</div>"
      ],
      "text/plain": [
       "                                  Open         High          Low        Close  \\\n",
       "Datetime                                                                        \n",
       "2023-01-16 00:00:00-05:00  1925.199951  1925.300049  1924.900024  1925.000000   \n",
       "2023-01-16 00:01:00-05:00  1924.900024  1924.900024  1924.500000  1924.599976   \n",
       "2023-01-16 00:02:00-05:00  1924.599976  1924.599976  1923.900024  1923.900024   \n",
       "2023-01-16 00:03:00-05:00  1923.900024  1924.099976  1923.800049  1923.800049   \n",
       "2023-01-16 00:04:00-05:00  1923.800049  1923.800049  1923.300049  1923.300049   \n",
       "...                                ...          ...          ...          ...   \n",
       "2023-02-10 16:55:00-05:00  1876.099976  1876.400024  1876.000000  1876.300049   \n",
       "2023-02-10 16:56:00-05:00  1876.300049  1876.500000  1876.199951  1876.300049   \n",
       "2023-02-10 16:57:00-05:00  1876.300049  1876.599976  1876.099976  1876.199951   \n",
       "2023-02-10 16:58:00-05:00  1876.099976  1876.300049  1876.000000  1876.300049   \n",
       "2023-02-10 16:59:00-05:00  1876.300049  1876.699951  1874.500000  1876.400024   \n",
       "\n",
       "                             Adj Close  Volume       ATR  ATR_Trailing_Stop  \\\n",
       "Datetime                                                                      \n",
       "2023-01-16 00:00:00-05:00  1925.000000       0       NaN           0.000000   \n",
       "2023-01-16 00:01:00-05:00  1924.599976      95       NaN                NaN   \n",
       "2023-01-16 00:02:00-05:00  1923.900024     132       NaN                NaN   \n",
       "2023-01-16 00:03:00-05:00  1923.800049     105       NaN                NaN   \n",
       "2023-01-16 00:04:00-05:00  1923.300049      71       NaN                NaN   \n",
       "...                                ...     ...       ...                ...   \n",
       "2023-02-10 16:55:00-05:00  1876.300049      34  0.300012        1876.600061   \n",
       "2023-02-10 16:56:00-05:00  1876.300049      15  0.320020        1876.620068   \n",
       "2023-02-10 16:57:00-05:00  1876.199951      58  0.370020        1876.569971   \n",
       "2023-02-10 16:58:00-05:00  1876.300049       5  0.370032        1875.930017   \n",
       "2023-02-10 16:59:00-05:00  1876.400024  150183  0.540027        1875.930017   \n",
       "\n",
       "                                   EMA  signal  \n",
       "Datetime                                        \n",
       "2023-01-16 00:00:00-05:00  1925.000000       0  \n",
       "2023-01-16 00:01:00-05:00  1924.599976       0  \n",
       "2023-01-16 00:02:00-05:00  1923.900024       0  \n",
       "2023-01-16 00:03:00-05:00  1923.800049       0  \n",
       "2023-01-16 00:04:00-05:00  1923.300049       0  \n",
       "...                                ...     ...  \n",
       "2023-02-10 16:55:00-05:00  1876.300049      -1  \n",
       "2023-02-10 16:56:00-05:00  1876.300049       0  \n",
       "2023-02-10 16:57:00-05:00  1876.199951       0  \n",
       "2023-02-10 16:58:00-05:00  1876.300049       1  \n",
       "2023-02-10 16:59:00-05:00  1876.400024       0  \n",
       "\n",
       "[27299 rows x 10 columns]"
      ]
     },
     "execution_count": 54,
     "metadata": {},
     "output_type": "execute_result"
    }
   ],
   "source": [
    "data.set_index('Datetime')"
   ]
  },
  {
   "cell_type": "code",
   "execution_count": 66,
   "id": "a0386d46",
   "metadata": {},
   "outputs": [
    {
     "name": "stderr",
     "output_type": "stream",
     "text": [
      "C:\\Users\\tyler\\AppData\\Local\\Temp\\ipykernel_34040\\1503044343.py:31: UserWarning: Data index is not sorted in ascending order. Sorting.\n",
      "  bt = Backtest(data_new, MyCandlesStrat, cash=1000000, commission=-0.00)\n"
     ]
    },
    {
     "name": "stdout",
     "output_type": "stream",
     "text": [
      "0.00099 : 65.17397915686622\n"
     ]
    },
    {
     "name": "stderr",
     "output_type": "stream",
     "text": [
      "C:\\Users\\tyler\\AppData\\Local\\Temp\\ipykernel_34040\\1503044343.py:31: UserWarning: Data index is not sorted in ascending order. Sorting.\n",
      "  bt = Backtest(data_new, MyCandlesStrat, cash=1000000, commission=-0.00)\n"
     ]
    },
    {
     "name": "stdout",
     "output_type": "stream",
     "text": [
      "0.0009800000000000002 : 68.47595947133897\n"
     ]
    },
    {
     "name": "stderr",
     "output_type": "stream",
     "text": [
      "C:\\Users\\tyler\\AppData\\Local\\Temp\\ipykernel_34040\\1503044343.py:31: UserWarning: Data index is not sorted in ascending order. Sorting.\n",
      "  bt = Backtest(data_new, MyCandlesStrat, cash=1000000, commission=-0.00)\n"
     ]
    },
    {
     "name": "stdout",
     "output_type": "stream",
     "text": [
      "0.00097 : 64.55563473910657\n"
     ]
    },
    {
     "name": "stderr",
     "output_type": "stream",
     "text": [
      "C:\\Users\\tyler\\AppData\\Local\\Temp\\ipykernel_34040\\1503044343.py:31: UserWarning: Data index is not sorted in ascending order. Sorting.\n",
      "  bt = Backtest(data_new, MyCandlesStrat, cash=1000000, commission=-0.00)\n"
     ]
    },
    {
     "name": "stdout",
     "output_type": "stream",
     "text": [
      "0.0009600000000000001 : 70.436282903665\n"
     ]
    },
    {
     "name": "stderr",
     "output_type": "stream",
     "text": [
      "C:\\Users\\tyler\\AppData\\Local\\Temp\\ipykernel_34040\\1503044343.py:31: UserWarning: Data index is not sorted in ascending order. Sorting.\n",
      "  bt = Backtest(data_new, MyCandlesStrat, cash=1000000, commission=-0.00)\n"
     ]
    },
    {
     "name": "stdout",
     "output_type": "stream",
     "text": [
      "0.0009500000000000001 : 84.03898887188541\n"
     ]
    },
    {
     "name": "stderr",
     "output_type": "stream",
     "text": [
      "C:\\Users\\tyler\\AppData\\Local\\Temp\\ipykernel_34040\\1503044343.py:31: UserWarning: Data index is not sorted in ascending order. Sorting.\n",
      "  bt = Backtest(data_new, MyCandlesStrat, cash=1000000, commission=-0.00)\n"
     ]
    },
    {
     "name": "stdout",
     "output_type": "stream",
     "text": [
      "0.0009400000000000001 : 83.36544641090077\n"
     ]
    },
    {
     "name": "stderr",
     "output_type": "stream",
     "text": [
      "C:\\Users\\tyler\\AppData\\Local\\Temp\\ipykernel_34040\\1503044343.py:31: UserWarning: Data index is not sorted in ascending order. Sorting.\n",
      "  bt = Backtest(data_new, MyCandlesStrat, cash=1000000, commission=-0.00)\n"
     ]
    },
    {
     "name": "stdout",
     "output_type": "stream",
     "text": [
      "0.00093 : 96.2919566389642\n"
     ]
    },
    {
     "name": "stderr",
     "output_type": "stream",
     "text": [
      "C:\\Users\\tyler\\AppData\\Local\\Temp\\ipykernel_34040\\1503044343.py:31: UserWarning: Data index is not sorted in ascending order. Sorting.\n",
      "  bt = Backtest(data_new, MyCandlesStrat, cash=1000000, commission=-0.00)\n"
     ]
    },
    {
     "name": "stdout",
     "output_type": "stream",
     "text": [
      "0.00092 : 102.46742882733038\n"
     ]
    },
    {
     "name": "stderr",
     "output_type": "stream",
     "text": [
      "C:\\Users\\tyler\\AppData\\Local\\Temp\\ipykernel_34040\\1503044343.py:31: UserWarning: Data index is not sorted in ascending order. Sorting.\n",
      "  bt = Backtest(data_new, MyCandlesStrat, cash=1000000, commission=-0.00)\n"
     ]
    },
    {
     "name": "stdout",
     "output_type": "stream",
     "text": [
      "0.0009100000000000001 : 98.32086509829495\n"
     ]
    },
    {
     "name": "stderr",
     "output_type": "stream",
     "text": [
      "C:\\Users\\tyler\\AppData\\Local\\Temp\\ipykernel_34040\\1503044343.py:31: UserWarning: Data index is not sorted in ascending order. Sorting.\n",
      "  bt = Backtest(data_new, MyCandlesStrat, cash=1000000, commission=-0.00)\n"
     ]
    },
    {
     "name": "stdout",
     "output_type": "stream",
     "text": [
      "0.0009000000000000001 : 105.79805580215\n"
     ]
    },
    {
     "name": "stderr",
     "output_type": "stream",
     "text": [
      "C:\\Users\\tyler\\AppData\\Local\\Temp\\ipykernel_34040\\1503044343.py:31: UserWarning: Data index is not sorted in ascending order. Sorting.\n",
      "  bt = Backtest(data_new, MyCandlesStrat, cash=1000000, commission=-0.00)\n"
     ]
    },
    {
     "name": "stdout",
     "output_type": "stream",
     "text": [
      "0.0008900000000000001 : 113.1033238368961\n"
     ]
    },
    {
     "name": "stderr",
     "output_type": "stream",
     "text": [
      "C:\\Users\\tyler\\AppData\\Local\\Temp\\ipykernel_34040\\1503044343.py:31: UserWarning: Data index is not sorted in ascending order. Sorting.\n",
      "  bt = Backtest(data_new, MyCandlesStrat, cash=1000000, commission=-0.00)\n"
     ]
    },
    {
     "name": "stdout",
     "output_type": "stream",
     "text": [
      "0.00088 : 112.89485028133745\n"
     ]
    },
    {
     "name": "stderr",
     "output_type": "stream",
     "text": [
      "C:\\Users\\tyler\\AppData\\Local\\Temp\\ipykernel_34040\\1503044343.py:31: UserWarning: Data index is not sorted in ascending order. Sorting.\n",
      "  bt = Backtest(data_new, MyCandlesStrat, cash=1000000, commission=-0.00)\n"
     ]
    },
    {
     "name": "stdout",
     "output_type": "stream",
     "text": [
      "0.0008700000000000001 : 114.5979061674281\n"
     ]
    },
    {
     "name": "stderr",
     "output_type": "stream",
     "text": [
      "C:\\Users\\tyler\\AppData\\Local\\Temp\\ipykernel_34040\\1503044343.py:31: UserWarning: Data index is not sorted in ascending order. Sorting.\n",
      "  bt = Backtest(data_new, MyCandlesStrat, cash=1000000, commission=-0.00)\n"
     ]
    },
    {
     "name": "stdout",
     "output_type": "stream",
     "text": [
      "0.0008600000000000001 : 119.52067372258128\n"
     ]
    },
    {
     "name": "stderr",
     "output_type": "stream",
     "text": [
      "C:\\Users\\tyler\\AppData\\Local\\Temp\\ipykernel_34040\\1503044343.py:31: UserWarning: Data index is not sorted in ascending order. Sorting.\n",
      "  bt = Backtest(data_new, MyCandlesStrat, cash=1000000, commission=-0.00)\n"
     ]
    },
    {
     "name": "stdout",
     "output_type": "stream",
     "text": [
      "0.0008500000000000001 : 124.37701692209295\n"
     ]
    },
    {
     "name": "stderr",
     "output_type": "stream",
     "text": [
      "C:\\Users\\tyler\\AppData\\Local\\Temp\\ipykernel_34040\\1503044343.py:31: UserWarning: Data index is not sorted in ascending order. Sorting.\n",
      "  bt = Backtest(data_new, MyCandlesStrat, cash=1000000, commission=-0.00)\n"
     ]
    },
    {
     "name": "stdout",
     "output_type": "stream",
     "text": [
      "0.00084 : 120.14358051305534\n"
     ]
    },
    {
     "name": "stderr",
     "output_type": "stream",
     "text": [
      "C:\\Users\\tyler\\AppData\\Local\\Temp\\ipykernel_34040\\1503044343.py:31: UserWarning: Data index is not sorted in ascending order. Sorting.\n",
      "  bt = Backtest(data_new, MyCandlesStrat, cash=1000000, commission=-0.00)\n"
     ]
    },
    {
     "name": "stdout",
     "output_type": "stream",
     "text": [
      "0.0008300000000000001 : 115.72230104210955\n"
     ]
    },
    {
     "name": "stderr",
     "output_type": "stream",
     "text": [
      "C:\\Users\\tyler\\AppData\\Local\\Temp\\ipykernel_34040\\1503044343.py:31: UserWarning: Data index is not sorted in ascending order. Sorting.\n",
      "  bt = Backtest(data_new, MyCandlesStrat, cash=1000000, commission=-0.00)\n"
     ]
    },
    {
     "name": "stdout",
     "output_type": "stream",
     "text": [
      "0.0008200000000000001 : 116.1038994354927\n"
     ]
    },
    {
     "name": "stderr",
     "output_type": "stream",
     "text": [
      "C:\\Users\\tyler\\AppData\\Local\\Temp\\ipykernel_34040\\1503044343.py:31: UserWarning: Data index is not sorted in ascending order. Sorting.\n",
      "  bt = Backtest(data_new, MyCandlesStrat, cash=1000000, commission=-0.00)\n"
     ]
    },
    {
     "name": "stdout",
     "output_type": "stream",
     "text": [
      "0.0008100000000000001 : 111.21278339341423\n"
     ]
    },
    {
     "name": "stderr",
     "output_type": "stream",
     "text": [
      "C:\\Users\\tyler\\AppData\\Local\\Temp\\ipykernel_34040\\1503044343.py:31: UserWarning: Data index is not sorted in ascending order. Sorting.\n",
      "  bt = Backtest(data_new, MyCandlesStrat, cash=1000000, commission=-0.00)\n"
     ]
    },
    {
     "name": "stdout",
     "output_type": "stream",
     "text": [
      "0.0008 : 109.2208849671958\n"
     ]
    },
    {
     "name": "stderr",
     "output_type": "stream",
     "text": [
      "C:\\Users\\tyler\\AppData\\Local\\Temp\\ipykernel_34040\\1503044343.py:31: UserWarning: Data index is not sorted in ascending order. Sorting.\n",
      "  bt = Backtest(data_new, MyCandlesStrat, cash=1000000, commission=-0.00)\n"
     ]
    },
    {
     "name": "stdout",
     "output_type": "stream",
     "text": [
      "0.00079 : 103.5765697532945\n"
     ]
    },
    {
     "name": "stderr",
     "output_type": "stream",
     "text": [
      "C:\\Users\\tyler\\AppData\\Local\\Temp\\ipykernel_34040\\1503044343.py:31: UserWarning: Data index is not sorted in ascending order. Sorting.\n",
      "  bt = Backtest(data_new, MyCandlesStrat, cash=1000000, commission=-0.00)\n"
     ]
    },
    {
     "name": "stdout",
     "output_type": "stream",
     "text": [
      "0.0007800000000000001 : 97.66907483059009\n"
     ]
    },
    {
     "name": "stderr",
     "output_type": "stream",
     "text": [
      "C:\\Users\\tyler\\AppData\\Local\\Temp\\ipykernel_34040\\1503044343.py:31: UserWarning: Data index is not sorted in ascending order. Sorting.\n",
      "  bt = Backtest(data_new, MyCandlesStrat, cash=1000000, commission=-0.00)\n"
     ]
    },
    {
     "name": "stdout",
     "output_type": "stream",
     "text": [
      "0.0007700000000000001 : 97.76085902934419\n"
     ]
    },
    {
     "name": "stderr",
     "output_type": "stream",
     "text": [
      "C:\\Users\\tyler\\AppData\\Local\\Temp\\ipykernel_34040\\1503044343.py:31: UserWarning: Data index is not sorted in ascending order. Sorting.\n",
      "  bt = Backtest(data_new, MyCandlesStrat, cash=1000000, commission=-0.00)\n"
     ]
    },
    {
     "name": "stdout",
     "output_type": "stream",
     "text": [
      "0.00076 : 102.51386988292883\n"
     ]
    },
    {
     "name": "stderr",
     "output_type": "stream",
     "text": [
      "C:\\Users\\tyler\\AppData\\Local\\Temp\\ipykernel_34040\\1503044343.py:31: UserWarning: Data index is not sorted in ascending order. Sorting.\n",
      "  bt = Backtest(data_new, MyCandlesStrat, cash=1000000, commission=-0.00)\n"
     ]
    },
    {
     "name": "stdout",
     "output_type": "stream",
     "text": [
      "0.00075 : 100.58115850416559\n"
     ]
    },
    {
     "name": "stderr",
     "output_type": "stream",
     "text": [
      "C:\\Users\\tyler\\AppData\\Local\\Temp\\ipykernel_34040\\1503044343.py:31: UserWarning: Data index is not sorted in ascending order. Sorting.\n",
      "  bt = Backtest(data_new, MyCandlesStrat, cash=1000000, commission=-0.00)\n"
     ]
    },
    {
     "name": "stdout",
     "output_type": "stream",
     "text": [
      "0.0007400000000000001 : 101.35443201567584\n"
     ]
    },
    {
     "name": "stderr",
     "output_type": "stream",
     "text": [
      "C:\\Users\\tyler\\AppData\\Local\\Temp\\ipykernel_34040\\1503044343.py:31: UserWarning: Data index is not sorted in ascending order. Sorting.\n",
      "  bt = Backtest(data_new, MyCandlesStrat, cash=1000000, commission=-0.00)\n"
     ]
    },
    {
     "name": "stdout",
     "output_type": "stream",
     "text": [
      "0.0007300000000000001 : 99.02921051799166\n"
     ]
    },
    {
     "name": "stderr",
     "output_type": "stream",
     "text": [
      "C:\\Users\\tyler\\AppData\\Local\\Temp\\ipykernel_34040\\1503044343.py:31: UserWarning: Data index is not sorted in ascending order. Sorting.\n",
      "  bt = Backtest(data_new, MyCandlesStrat, cash=1000000, commission=-0.00)\n"
     ]
    },
    {
     "name": "stdout",
     "output_type": "stream",
     "text": [
      "0.00072 : 85.73177482982717\n"
     ]
    },
    {
     "name": "stderr",
     "output_type": "stream",
     "text": [
      "C:\\Users\\tyler\\AppData\\Local\\Temp\\ipykernel_34040\\1503044343.py:31: UserWarning: Data index is not sorted in ascending order. Sorting.\n",
      "  bt = Backtest(data_new, MyCandlesStrat, cash=1000000, commission=-0.00)\n"
     ]
    },
    {
     "name": "stdout",
     "output_type": "stream",
     "text": [
      "0.00071 : 86.50908017036798\n"
     ]
    },
    {
     "name": "stderr",
     "output_type": "stream",
     "text": [
      "C:\\Users\\tyler\\AppData\\Local\\Temp\\ipykernel_34040\\1503044343.py:31: UserWarning: Data index is not sorted in ascending order. Sorting.\n",
      "  bt = Backtest(data_new, MyCandlesStrat, cash=1000000, commission=-0.00)\n"
     ]
    },
    {
     "name": "stdout",
     "output_type": "stream",
     "text": [
      "0.0007000000000000001 : 86.33833881119793\n"
     ]
    },
    {
     "name": "stderr",
     "output_type": "stream",
     "text": [
      "C:\\Users\\tyler\\AppData\\Local\\Temp\\ipykernel_34040\\1503044343.py:31: UserWarning: Data index is not sorted in ascending order. Sorting.\n",
      "  bt = Backtest(data_new, MyCandlesStrat, cash=1000000, commission=-0.00)\n"
     ]
    },
    {
     "name": "stdout",
     "output_type": "stream",
     "text": [
      "0.0006900000000000001 : 83.23596976368862\n"
     ]
    },
    {
     "name": "stderr",
     "output_type": "stream",
     "text": [
      "C:\\Users\\tyler\\AppData\\Local\\Temp\\ipykernel_34040\\1503044343.py:31: UserWarning: Data index is not sorted in ascending order. Sorting.\n",
      "  bt = Backtest(data_new, MyCandlesStrat, cash=1000000, commission=-0.00)\n"
     ]
    },
    {
     "name": "stdout",
     "output_type": "stream",
     "text": [
      "0.00068 : 80.00247797343827\n"
     ]
    },
    {
     "name": "stderr",
     "output_type": "stream",
     "text": [
      "C:\\Users\\tyler\\AppData\\Local\\Temp\\ipykernel_34040\\1503044343.py:31: UserWarning: Data index is not sorted in ascending order. Sorting.\n",
      "  bt = Backtest(data_new, MyCandlesStrat, cash=1000000, commission=-0.00)\n"
     ]
    },
    {
     "name": "stdout",
     "output_type": "stream",
     "text": [
      "0.00067 : 78.0615960433559\n"
     ]
    },
    {
     "name": "stderr",
     "output_type": "stream",
     "text": [
      "C:\\Users\\tyler\\AppData\\Local\\Temp\\ipykernel_34040\\1503044343.py:31: UserWarning: Data index is not sorted in ascending order. Sorting.\n",
      "  bt = Backtest(data_new, MyCandlesStrat, cash=1000000, commission=-0.00)\n"
     ]
    },
    {
     "name": "stdout",
     "output_type": "stream",
     "text": [
      "0.0006600000000000001 : 75.59720612845612\n"
     ]
    },
    {
     "name": "stderr",
     "output_type": "stream",
     "text": [
      "C:\\Users\\tyler\\AppData\\Local\\Temp\\ipykernel_34040\\1503044343.py:31: UserWarning: Data index is not sorted in ascending order. Sorting.\n",
      "  bt = Backtest(data_new, MyCandlesStrat, cash=1000000, commission=-0.00)\n"
     ]
    },
    {
     "name": "stdout",
     "output_type": "stream",
     "text": [
      "0.0006500000000000001 : 74.50034405982146\n"
     ]
    },
    {
     "name": "stderr",
     "output_type": "stream",
     "text": [
      "C:\\Users\\tyler\\AppData\\Local\\Temp\\ipykernel_34040\\1503044343.py:31: UserWarning: Data index is not sorted in ascending order. Sorting.\n",
      "  bt = Backtest(data_new, MyCandlesStrat, cash=1000000, commission=-0.00)\n"
     ]
    },
    {
     "name": "stdout",
     "output_type": "stream",
     "text": [
      "0.00064 : 70.813867622843\n"
     ]
    },
    {
     "name": "stderr",
     "output_type": "stream",
     "text": [
      "C:\\Users\\tyler\\AppData\\Local\\Temp\\ipykernel_34040\\1503044343.py:31: UserWarning: Data index is not sorted in ascending order. Sorting.\n",
      "  bt = Backtest(data_new, MyCandlesStrat, cash=1000000, commission=-0.00)\n"
     ]
    },
    {
     "name": "stdout",
     "output_type": "stream",
     "text": [
      "0.00063 : 69.0862550921535\n"
     ]
    },
    {
     "name": "stderr",
     "output_type": "stream",
     "text": [
      "C:\\Users\\tyler\\AppData\\Local\\Temp\\ipykernel_34040\\1503044343.py:31: UserWarning: Data index is not sorted in ascending order. Sorting.\n",
      "  bt = Backtest(data_new, MyCandlesStrat, cash=1000000, commission=-0.00)\n"
     ]
    },
    {
     "name": "stdout",
     "output_type": "stream",
     "text": [
      "0.00062 : 74.95361362166263\n"
     ]
    },
    {
     "name": "stderr",
     "output_type": "stream",
     "text": [
      "C:\\Users\\tyler\\AppData\\Local\\Temp\\ipykernel_34040\\1503044343.py:31: UserWarning: Data index is not sorted in ascending order. Sorting.\n",
      "  bt = Backtest(data_new, MyCandlesStrat, cash=1000000, commission=-0.00)\n"
     ]
    },
    {
     "name": "stdout",
     "output_type": "stream",
     "text": [
      "0.0006100000000000001 : 72.67535931274023\n"
     ]
    },
    {
     "name": "stderr",
     "output_type": "stream",
     "text": [
      "C:\\Users\\tyler\\AppData\\Local\\Temp\\ipykernel_34040\\1503044343.py:31: UserWarning: Data index is not sorted in ascending order. Sorting.\n",
      "  bt = Backtest(data_new, MyCandlesStrat, cash=1000000, commission=-0.00)\n"
     ]
    },
    {
     "name": "stdout",
     "output_type": "stream",
     "text": [
      "0.0006000000000000001 : 68.98796781551161\n"
     ]
    },
    {
     "name": "stderr",
     "output_type": "stream",
     "text": [
      "C:\\Users\\tyler\\AppData\\Local\\Temp\\ipykernel_34040\\1503044343.py:31: UserWarning: Data index is not sorted in ascending order. Sorting.\n",
      "  bt = Backtest(data_new, MyCandlesStrat, cash=1000000, commission=-0.00)\n"
     ]
    },
    {
     "name": "stdout",
     "output_type": "stream",
     "text": [
      "0.00059 : 67.72038219314304\n"
     ]
    },
    {
     "name": "stderr",
     "output_type": "stream",
     "text": [
      "C:\\Users\\tyler\\AppData\\Local\\Temp\\ipykernel_34040\\1503044343.py:31: UserWarning: Data index is not sorted in ascending order. Sorting.\n",
      "  bt = Backtest(data_new, MyCandlesStrat, cash=1000000, commission=-0.00)\n"
     ]
    },
    {
     "name": "stdout",
     "output_type": "stream",
     "text": [
      "0.00058 : 69.35324030908787\n"
     ]
    },
    {
     "name": "stderr",
     "output_type": "stream",
     "text": [
      "C:\\Users\\tyler\\AppData\\Local\\Temp\\ipykernel_34040\\1503044343.py:31: UserWarning: Data index is not sorted in ascending order. Sorting.\n",
      "  bt = Backtest(data_new, MyCandlesStrat, cash=1000000, commission=-0.00)\n"
     ]
    },
    {
     "name": "stdout",
     "output_type": "stream",
     "text": [
      "0.0005700000000000001 : 68.5475555764905\n"
     ]
    },
    {
     "name": "stderr",
     "output_type": "stream",
     "text": [
      "C:\\Users\\tyler\\AppData\\Local\\Temp\\ipykernel_34040\\1503044343.py:31: UserWarning: Data index is not sorted in ascending order. Sorting.\n",
      "  bt = Backtest(data_new, MyCandlesStrat, cash=1000000, commission=-0.00)\n"
     ]
    },
    {
     "name": "stdout",
     "output_type": "stream",
     "text": [
      "0.0005600000000000001 : 66.14113024028535\n"
     ]
    },
    {
     "name": "stderr",
     "output_type": "stream",
     "text": [
      "C:\\Users\\tyler\\AppData\\Local\\Temp\\ipykernel_34040\\1503044343.py:31: UserWarning: Data index is not sorted in ascending order. Sorting.\n",
      "  bt = Backtest(data_new, MyCandlesStrat, cash=1000000, commission=-0.00)\n"
     ]
    },
    {
     "name": "stdout",
     "output_type": "stream",
     "text": [
      "0.00055 : 64.76972931137821\n"
     ]
    },
    {
     "name": "stderr",
     "output_type": "stream",
     "text": [
      "C:\\Users\\tyler\\AppData\\Local\\Temp\\ipykernel_34040\\1503044343.py:31: UserWarning: Data index is not sorted in ascending order. Sorting.\n",
      "  bt = Backtest(data_new, MyCandlesStrat, cash=1000000, commission=-0.00)\n"
     ]
    },
    {
     "name": "stdout",
     "output_type": "stream",
     "text": [
      "0.00054 : 64.40817264582186\n"
     ]
    },
    {
     "name": "stderr",
     "output_type": "stream",
     "text": [
      "C:\\Users\\tyler\\AppData\\Local\\Temp\\ipykernel_34040\\1503044343.py:31: UserWarning: Data index is not sorted in ascending order. Sorting.\n",
      "  bt = Backtest(data_new, MyCandlesStrat, cash=1000000, commission=-0.00)\n"
     ]
    },
    {
     "name": "stdout",
     "output_type": "stream",
     "text": [
      "0.0005300000000000001 : 64.47785091209407\n"
     ]
    },
    {
     "name": "stderr",
     "output_type": "stream",
     "text": [
      "C:\\Users\\tyler\\AppData\\Local\\Temp\\ipykernel_34040\\1503044343.py:31: UserWarning: Data index is not sorted in ascending order. Sorting.\n",
      "  bt = Backtest(data_new, MyCandlesStrat, cash=1000000, commission=-0.00)\n"
     ]
    },
    {
     "name": "stdout",
     "output_type": "stream",
     "text": [
      "0.0005200000000000001 : 61.92255211203103\n"
     ]
    },
    {
     "name": "stderr",
     "output_type": "stream",
     "text": [
      "C:\\Users\\tyler\\AppData\\Local\\Temp\\ipykernel_34040\\1503044343.py:31: UserWarning: Data index is not sorted in ascending order. Sorting.\n",
      "  bt = Backtest(data_new, MyCandlesStrat, cash=1000000, commission=-0.00)\n"
     ]
    },
    {
     "name": "stdout",
     "output_type": "stream",
     "text": [
      "0.00051 : 55.414500018782356\n"
     ]
    },
    {
     "name": "stderr",
     "output_type": "stream",
     "text": [
      "C:\\Users\\tyler\\AppData\\Local\\Temp\\ipykernel_34040\\1503044343.py:31: UserWarning: Data index is not sorted in ascending order. Sorting.\n",
      "  bt = Backtest(data_new, MyCandlesStrat, cash=1000000, commission=-0.00)\n"
     ]
    },
    {
     "name": "stdout",
     "output_type": "stream",
     "text": [
      "0.0005 : 52.4981949324583\n"
     ]
    },
    {
     "name": "stderr",
     "output_type": "stream",
     "text": [
      "C:\\Users\\tyler\\AppData\\Local\\Temp\\ipykernel_34040\\1503044343.py:31: UserWarning: Data index is not sorted in ascending order. Sorting.\n",
      "  bt = Backtest(data_new, MyCandlesStrat, cash=1000000, commission=-0.00)\n"
     ]
    },
    {
     "name": "stdout",
     "output_type": "stream",
     "text": [
      "0.0004900000000000001 : 50.78129553708204\n"
     ]
    },
    {
     "name": "stderr",
     "output_type": "stream",
     "text": [
      "C:\\Users\\tyler\\AppData\\Local\\Temp\\ipykernel_34040\\1503044343.py:31: UserWarning: Data index is not sorted in ascending order. Sorting.\n",
      "  bt = Backtest(data_new, MyCandlesStrat, cash=1000000, commission=-0.00)\n"
     ]
    },
    {
     "name": "stdout",
     "output_type": "stream",
     "text": [
      "0.00048000000000000007 : 50.06862602732731\n"
     ]
    },
    {
     "name": "stderr",
     "output_type": "stream",
     "text": [
      "C:\\Users\\tyler\\AppData\\Local\\Temp\\ipykernel_34040\\1503044343.py:31: UserWarning: Data index is not sorted in ascending order. Sorting.\n",
      "  bt = Backtest(data_new, MyCandlesStrat, cash=1000000, commission=-0.00)\n"
     ]
    },
    {
     "name": "stdout",
     "output_type": "stream",
     "text": [
      "0.00047000000000000004 : 49.93177454241996\n"
     ]
    },
    {
     "name": "stderr",
     "output_type": "stream",
     "text": [
      "C:\\Users\\tyler\\AppData\\Local\\Temp\\ipykernel_34040\\1503044343.py:31: UserWarning: Data index is not sorted in ascending order. Sorting.\n",
      "  bt = Backtest(data_new, MyCandlesStrat, cash=1000000, commission=-0.00)\n"
     ]
    },
    {
     "name": "stdout",
     "output_type": "stream",
     "text": [
      "0.00046 : 49.62761141750645\n"
     ]
    },
    {
     "name": "stderr",
     "output_type": "stream",
     "text": [
      "C:\\Users\\tyler\\AppData\\Local\\Temp\\ipykernel_34040\\1503044343.py:31: UserWarning: Data index is not sorted in ascending order. Sorting.\n",
      "  bt = Backtest(data_new, MyCandlesStrat, cash=1000000, commission=-0.00)\n"
     ]
    },
    {
     "name": "stdout",
     "output_type": "stream",
     "text": [
      "0.00045000000000000004 : 46.37130748197981\n"
     ]
    },
    {
     "name": "stderr",
     "output_type": "stream",
     "text": [
      "C:\\Users\\tyler\\AppData\\Local\\Temp\\ipykernel_34040\\1503044343.py:31: UserWarning: Data index is not sorted in ascending order. Sorting.\n",
      "  bt = Backtest(data_new, MyCandlesStrat, cash=1000000, commission=-0.00)\n"
     ]
    },
    {
     "name": "stdout",
     "output_type": "stream",
     "text": [
      "0.00044 : 47.75063874719958\n"
     ]
    },
    {
     "name": "stderr",
     "output_type": "stream",
     "text": [
      "C:\\Users\\tyler\\AppData\\Local\\Temp\\ipykernel_34040\\1503044343.py:31: UserWarning: Data index is not sorted in ascending order. Sorting.\n",
      "  bt = Backtest(data_new, MyCandlesStrat, cash=1000000, commission=-0.00)\n"
     ]
    },
    {
     "name": "stdout",
     "output_type": "stream",
     "text": [
      "0.00043000000000000004 : 48.15574810529763\n"
     ]
    },
    {
     "name": "stderr",
     "output_type": "stream",
     "text": [
      "C:\\Users\\tyler\\AppData\\Local\\Temp\\ipykernel_34040\\1503044343.py:31: UserWarning: Data index is not sorted in ascending order. Sorting.\n",
      "  bt = Backtest(data_new, MyCandlesStrat, cash=1000000, commission=-0.00)\n"
     ]
    },
    {
     "name": "stdout",
     "output_type": "stream",
     "text": [
      "0.00042 : 39.4905106217043\n"
     ]
    },
    {
     "name": "stderr",
     "output_type": "stream",
     "text": [
      "C:\\Users\\tyler\\AppData\\Local\\Temp\\ipykernel_34040\\1503044343.py:31: UserWarning: Data index is not sorted in ascending order. Sorting.\n",
      "  bt = Backtest(data_new, MyCandlesStrat, cash=1000000, commission=-0.00)\n"
     ]
    },
    {
     "name": "stdout",
     "output_type": "stream",
     "text": [
      "0.00041000000000000005 : 30.612112089913662\n"
     ]
    },
    {
     "name": "stderr",
     "output_type": "stream",
     "text": [
      "C:\\Users\\tyler\\AppData\\Local\\Temp\\ipykernel_34040\\1503044343.py:31: UserWarning: Data index is not sorted in ascending order. Sorting.\n",
      "  bt = Backtest(data_new, MyCandlesStrat, cash=1000000, commission=-0.00)\n"
     ]
    },
    {
     "name": "stdout",
     "output_type": "stream",
     "text": [
      "0.0004 : 29.29760220843805\n"
     ]
    },
    {
     "name": "stderr",
     "output_type": "stream",
     "text": [
      "C:\\Users\\tyler\\AppData\\Local\\Temp\\ipykernel_34040\\1503044343.py:31: UserWarning: Data index is not sorted in ascending order. Sorting.\n",
      "  bt = Backtest(data_new, MyCandlesStrat, cash=1000000, commission=-0.00)\n"
     ]
    },
    {
     "name": "stdout",
     "output_type": "stream",
     "text": [
      "0.00039000000000000005 : 30.968152801253368\n"
     ]
    },
    {
     "name": "stderr",
     "output_type": "stream",
     "text": [
      "C:\\Users\\tyler\\AppData\\Local\\Temp\\ipykernel_34040\\1503044343.py:31: UserWarning: Data index is not sorted in ascending order. Sorting.\n",
      "  bt = Backtest(data_new, MyCandlesStrat, cash=1000000, commission=-0.00)\n"
     ]
    },
    {
     "name": "stdout",
     "output_type": "stream",
     "text": [
      "0.00038 : 34.09517562226404\n"
     ]
    },
    {
     "name": "stderr",
     "output_type": "stream",
     "text": [
      "C:\\Users\\tyler\\AppData\\Local\\Temp\\ipykernel_34040\\1503044343.py:31: UserWarning: Data index is not sorted in ascending order. Sorting.\n",
      "  bt = Backtest(data_new, MyCandlesStrat, cash=1000000, commission=-0.00)\n"
     ]
    },
    {
     "name": "stdout",
     "output_type": "stream",
     "text": [
      "0.00037000000000000005 : 27.091996653847044\n"
     ]
    },
    {
     "name": "stderr",
     "output_type": "stream",
     "text": [
      "C:\\Users\\tyler\\AppData\\Local\\Temp\\ipykernel_34040\\1503044343.py:31: UserWarning: Data index is not sorted in ascending order. Sorting.\n",
      "  bt = Backtest(data_new, MyCandlesStrat, cash=1000000, commission=-0.00)\n"
     ]
    },
    {
     "name": "stdout",
     "output_type": "stream",
     "text": [
      "0.00036 : 20.509331461938725\n"
     ]
    },
    {
     "name": "stderr",
     "output_type": "stream",
     "text": [
      "C:\\Users\\tyler\\AppData\\Local\\Temp\\ipykernel_34040\\1503044343.py:31: UserWarning: Data index is not sorted in ascending order. Sorting.\n",
      "  bt = Backtest(data_new, MyCandlesStrat, cash=1000000, commission=-0.00)\n"
     ]
    },
    {
     "name": "stdout",
     "output_type": "stream",
     "text": [
      "0.00035000000000000005 : 22.78300142633659\n"
     ]
    },
    {
     "name": "stderr",
     "output_type": "stream",
     "text": [
      "C:\\Users\\tyler\\AppData\\Local\\Temp\\ipykernel_34040\\1503044343.py:31: UserWarning: Data index is not sorted in ascending order. Sorting.\n",
      "  bt = Backtest(data_new, MyCandlesStrat, cash=1000000, commission=-0.00)\n"
     ]
    },
    {
     "name": "stdout",
     "output_type": "stream",
     "text": [
      "0.00034 : 22.123900851757124\n"
     ]
    },
    {
     "name": "stderr",
     "output_type": "stream",
     "text": [
      "C:\\Users\\tyler\\AppData\\Local\\Temp\\ipykernel_34040\\1503044343.py:31: UserWarning: Data index is not sorted in ascending order. Sorting.\n",
      "  bt = Backtest(data_new, MyCandlesStrat, cash=1000000, commission=-0.00)\n"
     ]
    },
    {
     "name": "stdout",
     "output_type": "stream",
     "text": [
      "0.00033000000000000005 : 22.481723276016652\n"
     ]
    },
    {
     "name": "stderr",
     "output_type": "stream",
     "text": [
      "C:\\Users\\tyler\\AppData\\Local\\Temp\\ipykernel_34040\\1503044343.py:31: UserWarning: Data index is not sorted in ascending order. Sorting.\n",
      "  bt = Backtest(data_new, MyCandlesStrat, cash=1000000, commission=-0.00)\n"
     ]
    },
    {
     "name": "stdout",
     "output_type": "stream",
     "text": [
      "0.00032 : 22.03303069305031\n"
     ]
    },
    {
     "name": "stderr",
     "output_type": "stream",
     "text": [
      "C:\\Users\\tyler\\AppData\\Local\\Temp\\ipykernel_34040\\1503044343.py:31: UserWarning: Data index is not sorted in ascending order. Sorting.\n",
      "  bt = Backtest(data_new, MyCandlesStrat, cash=1000000, commission=-0.00)\n"
     ]
    },
    {
     "name": "stdout",
     "output_type": "stream",
     "text": [
      "0.00031 : 15.793897471498743\n"
     ]
    },
    {
     "name": "stderr",
     "output_type": "stream",
     "text": [
      "C:\\Users\\tyler\\AppData\\Local\\Temp\\ipykernel_34040\\1503044343.py:31: UserWarning: Data index is not sorted in ascending order. Sorting.\n",
      "  bt = Backtest(data_new, MyCandlesStrat, cash=1000000, commission=-0.00)\n"
     ]
    },
    {
     "name": "stdout",
     "output_type": "stream",
     "text": [
      "0.00030000000000000003 : 7.993794324902841\n"
     ]
    },
    {
     "name": "stderr",
     "output_type": "stream",
     "text": [
      "C:\\Users\\tyler\\AppData\\Local\\Temp\\ipykernel_34040\\1503044343.py:31: UserWarning: Data index is not sorted in ascending order. Sorting.\n",
      "  bt = Backtest(data_new, MyCandlesStrat, cash=1000000, commission=-0.00)\n"
     ]
    },
    {
     "name": "stdout",
     "output_type": "stream",
     "text": [
      "0.00029 : 13.189557391389506\n"
     ]
    },
    {
     "name": "stderr",
     "output_type": "stream",
     "text": [
      "C:\\Users\\tyler\\AppData\\Local\\Temp\\ipykernel_34040\\1503044343.py:31: UserWarning: Data index is not sorted in ascending order. Sorting.\n",
      "  bt = Backtest(data_new, MyCandlesStrat, cash=1000000, commission=-0.00)\n"
     ]
    },
    {
     "name": "stdout",
     "output_type": "stream",
     "text": [
      "0.00028000000000000003 : 8.97418936835765\n"
     ]
    },
    {
     "name": "stderr",
     "output_type": "stream",
     "text": [
      "C:\\Users\\tyler\\AppData\\Local\\Temp\\ipykernel_34040\\1503044343.py:31: UserWarning: Data index is not sorted in ascending order. Sorting.\n",
      "  bt = Backtest(data_new, MyCandlesStrat, cash=1000000, commission=-0.00)\n"
     ]
    },
    {
     "name": "stdout",
     "output_type": "stream",
     "text": [
      "0.00027 : 10.211669047596539\n"
     ]
    },
    {
     "name": "stderr",
     "output_type": "stream",
     "text": [
      "C:\\Users\\tyler\\AppData\\Local\\Temp\\ipykernel_34040\\1503044343.py:31: UserWarning: Data index is not sorted in ascending order. Sorting.\n",
      "  bt = Backtest(data_new, MyCandlesStrat, cash=1000000, commission=-0.00)\n"
     ]
    },
    {
     "name": "stdout",
     "output_type": "stream",
     "text": [
      "0.00026000000000000003 : 6.669287300120084\n"
     ]
    },
    {
     "name": "stderr",
     "output_type": "stream",
     "text": [
      "C:\\Users\\tyler\\AppData\\Local\\Temp\\ipykernel_34040\\1503044343.py:31: UserWarning: Data index is not sorted in ascending order. Sorting.\n",
      "  bt = Backtest(data_new, MyCandlesStrat, cash=1000000, commission=-0.00)\n"
     ]
    },
    {
     "name": "stdout",
     "output_type": "stream",
     "text": [
      "0.00025 : -0.5903239252312459\n"
     ]
    },
    {
     "name": "stderr",
     "output_type": "stream",
     "text": [
      "C:\\Users\\tyler\\AppData\\Local\\Temp\\ipykernel_34040\\1503044343.py:31: UserWarning: Data index is not sorted in ascending order. Sorting.\n",
      "  bt = Backtest(data_new, MyCandlesStrat, cash=1000000, commission=-0.00)\n"
     ]
    },
    {
     "name": "stdout",
     "output_type": "stream",
     "text": [
      "0.00024000000000000003 : 2.0068051835916587\n"
     ]
    },
    {
     "name": "stderr",
     "output_type": "stream",
     "text": [
      "C:\\Users\\tyler\\AppData\\Local\\Temp\\ipykernel_34040\\1503044343.py:31: UserWarning: Data index is not sorted in ascending order. Sorting.\n",
      "  bt = Backtest(data_new, MyCandlesStrat, cash=1000000, commission=-0.00)\n"
     ]
    },
    {
     "name": "stdout",
     "output_type": "stream",
     "text": [
      "0.00023 : -1.5688532741450354\n"
     ]
    },
    {
     "name": "stderr",
     "output_type": "stream",
     "text": [
      "C:\\Users\\tyler\\AppData\\Local\\Temp\\ipykernel_34040\\1503044343.py:31: UserWarning: Data index is not sorted in ascending order. Sorting.\n",
      "  bt = Backtest(data_new, MyCandlesStrat, cash=1000000, commission=-0.00)\n"
     ]
    },
    {
     "name": "stdout",
     "output_type": "stream",
     "text": [
      "0.00022 : 5.199305048391759\n"
     ]
    },
    {
     "name": "stderr",
     "output_type": "stream",
     "text": [
      "C:\\Users\\tyler\\AppData\\Local\\Temp\\ipykernel_34040\\1503044343.py:31: UserWarning: Data index is not sorted in ascending order. Sorting.\n",
      "  bt = Backtest(data_new, MyCandlesStrat, cash=1000000, commission=-0.00)\n"
     ]
    },
    {
     "name": "stdout",
     "output_type": "stream",
     "text": [
      "0.00021 : -0.3641342836574069\n"
     ]
    },
    {
     "name": "stderr",
     "output_type": "stream",
     "text": [
      "C:\\Users\\tyler\\AppData\\Local\\Temp\\ipykernel_34040\\1503044343.py:31: UserWarning: Data index is not sorted in ascending order. Sorting.\n",
      "  bt = Backtest(data_new, MyCandlesStrat, cash=1000000, commission=-0.00)\n"
     ]
    },
    {
     "name": "stdout",
     "output_type": "stream",
     "text": [
      "0.0002 : -9.245143349550851\n"
     ]
    },
    {
     "name": "stderr",
     "output_type": "stream",
     "text": [
      "C:\\Users\\tyler\\AppData\\Local\\Temp\\ipykernel_34040\\1503044343.py:31: UserWarning: Data index is not sorted in ascending order. Sorting.\n",
      "  bt = Backtest(data_new, MyCandlesStrat, cash=1000000, commission=-0.00)\n"
     ]
    },
    {
     "name": "stdout",
     "output_type": "stream",
     "text": [
      "0.00019 : -7.118261085260287\n"
     ]
    },
    {
     "name": "stderr",
     "output_type": "stream",
     "text": [
      "C:\\Users\\tyler\\AppData\\Local\\Temp\\ipykernel_34040\\1503044343.py:31: UserWarning: Data index is not sorted in ascending order. Sorting.\n",
      "  bt = Backtest(data_new, MyCandlesStrat, cash=1000000, commission=-0.00)\n"
     ]
    },
    {
     "name": "stdout",
     "output_type": "stream",
     "text": [
      "0.00018 : -4.508184732058225\n"
     ]
    },
    {
     "name": "stderr",
     "output_type": "stream",
     "text": [
      "C:\\Users\\tyler\\AppData\\Local\\Temp\\ipykernel_34040\\1503044343.py:31: UserWarning: Data index is not sorted in ascending order. Sorting.\n",
      "  bt = Backtest(data_new, MyCandlesStrat, cash=1000000, commission=-0.00)\n"
     ]
    },
    {
     "name": "stdout",
     "output_type": "stream",
     "text": [
      "0.00017 : -3.703332034339721\n"
     ]
    },
    {
     "name": "stderr",
     "output_type": "stream",
     "text": [
      "C:\\Users\\tyler\\AppData\\Local\\Temp\\ipykernel_34040\\1503044343.py:31: UserWarning: Data index is not sorted in ascending order. Sorting.\n",
      "  bt = Backtest(data_new, MyCandlesStrat, cash=1000000, commission=-0.00)\n"
     ]
    },
    {
     "name": "stdout",
     "output_type": "stream",
     "text": [
      "0.00016 : 1.07502694262251\n"
     ]
    },
    {
     "name": "stderr",
     "output_type": "stream",
     "text": [
      "C:\\Users\\tyler\\AppData\\Local\\Temp\\ipykernel_34040\\1503044343.py:31: UserWarning: Data index is not sorted in ascending order. Sorting.\n",
      "  bt = Backtest(data_new, MyCandlesStrat, cash=1000000, commission=-0.00)\n"
     ]
    },
    {
     "ename": "KeyboardInterrupt",
     "evalue": "",
     "output_type": "error",
     "traceback": [
      "\u001b[1;31m---------------------------------------------------------------------------\u001b[0m",
      "\u001b[1;31mKeyboardInterrupt\u001b[0m                         Traceback (most recent call last)",
      "\u001b[1;32m~\\AppData\\Local\\Temp\\ipykernel_34040\\1503044343.py\u001b[0m in \u001b[0;36m<module>\u001b[1;34m\u001b[0m\n\u001b[0;32m     30\u001b[0m \u001b[1;33m\u001b[0m\u001b[0m\n\u001b[0;32m     31\u001b[0m     \u001b[0mbt\u001b[0m \u001b[1;33m=\u001b[0m \u001b[0mBacktest\u001b[0m\u001b[1;33m(\u001b[0m\u001b[0mdata_new\u001b[0m\u001b[1;33m,\u001b[0m \u001b[0mMyCandlesStrat\u001b[0m\u001b[1;33m,\u001b[0m \u001b[0mcash\u001b[0m\u001b[1;33m=\u001b[0m\u001b[1;36m1000000\u001b[0m\u001b[1;33m,\u001b[0m \u001b[0mcommission\u001b[0m\u001b[1;33m=\u001b[0m\u001b[1;33m-\u001b[0m\u001b[1;36m0.00\u001b[0m\u001b[1;33m)\u001b[0m\u001b[1;33m\u001b[0m\u001b[1;33m\u001b[0m\u001b[0m\n\u001b[1;32m---> 32\u001b[1;33m     \u001b[0mstat\u001b[0m \u001b[1;33m=\u001b[0m \u001b[0mbt\u001b[0m\u001b[1;33m.\u001b[0m\u001b[0mrun\u001b[0m\u001b[1;33m(\u001b[0m\u001b[1;33m)\u001b[0m\u001b[1;33m\u001b[0m\u001b[1;33m\u001b[0m\u001b[0m\n\u001b[0m\u001b[0;32m     33\u001b[0m     \u001b[0mprint\u001b[0m\u001b[1;33m(\u001b[0m\u001b[0mi\u001b[0m\u001b[1;33m,\u001b[0m \u001b[1;34m':'\u001b[0m \u001b[1;33m,\u001b[0m\u001b[0mstat\u001b[0m\u001b[1;33m[\u001b[0m\u001b[1;36m6\u001b[0m\u001b[1;33m]\u001b[0m\u001b[1;33m)\u001b[0m\u001b[1;33m\u001b[0m\u001b[1;33m\u001b[0m\u001b[0m\n\u001b[0;32m     34\u001b[0m \u001b[1;33m\u001b[0m\u001b[0m\n",
      "\u001b[1;32mc:\\Users\\tyler\\anaconda3\\lib\\site-packages\\backtesting\\backtesting.py\u001b[0m in \u001b[0;36mrun\u001b[1;34m(self, **kwargs)\u001b[0m\n\u001b[0;32m   1168\u001b[0m \u001b[1;33m\u001b[0m\u001b[0m\n\u001b[0;32m   1169\u001b[0m                 \u001b[1;31m# Next tick, a moment before bar close\u001b[0m\u001b[1;33m\u001b[0m\u001b[1;33m\u001b[0m\u001b[0m\n\u001b[1;32m-> 1170\u001b[1;33m                 \u001b[0mstrategy\u001b[0m\u001b[1;33m.\u001b[0m\u001b[0mnext\u001b[0m\u001b[1;33m(\u001b[0m\u001b[1;33m)\u001b[0m\u001b[1;33m\u001b[0m\u001b[1;33m\u001b[0m\u001b[0m\n\u001b[0m\u001b[0;32m   1171\u001b[0m             \u001b[1;32melse\u001b[0m\u001b[1;33m:\u001b[0m\u001b[1;33m\u001b[0m\u001b[1;33m\u001b[0m\u001b[0m\n\u001b[0;32m   1172\u001b[0m                 \u001b[1;31m# Close any remaining open trades so they produce some stats\u001b[0m\u001b[1;33m\u001b[0m\u001b[1;33m\u001b[0m\u001b[0m\n",
      "\u001b[1;32m~\\AppData\\Local\\Temp\\ipykernel_34040\\1503044343.py\u001b[0m in \u001b[0;36mnext\u001b[1;34m(self)\u001b[0m\n\u001b[0;32m     19\u001b[0m                 \u001b[0mself\u001b[0m\u001b[1;33m.\u001b[0m\u001b[0mbuy\u001b[0m\u001b[1;33m(\u001b[0m\u001b[0msl\u001b[0m\u001b[1;33m=\u001b[0m\u001b[0msl1\u001b[0m\u001b[1;33m,\u001b[0m \u001b[0mtp\u001b[0m\u001b[1;33m=\u001b[0m\u001b[0mtp1\u001b[0m\u001b[1;33m)\u001b[0m\u001b[1;33m\u001b[0m\u001b[1;33m\u001b[0m\u001b[0m\n\u001b[0;32m     20\u001b[0m \u001b[1;33m\u001b[0m\u001b[0m\n\u001b[1;32m---> 21\u001b[1;33m             \u001b[1;32melif\u001b[0m \u001b[0mself\u001b[0m\u001b[1;33m.\u001b[0m\u001b[0msignal1\u001b[0m\u001b[1;33m==\u001b[0m\u001b[1;33m-\u001b[0m\u001b[1;36m1\u001b[0m\u001b[1;33m:\u001b[0m\u001b[1;33m\u001b[0m\u001b[1;33m\u001b[0m\u001b[0m\n\u001b[0m\u001b[0;32m     22\u001b[0m                 \u001b[0msl1\u001b[0m \u001b[1;33m=\u001b[0m\u001b[0mself\u001b[0m\u001b[1;33m.\u001b[0m\u001b[0mdata\u001b[0m\u001b[1;33m.\u001b[0m\u001b[0mClose\u001b[0m\u001b[1;33m[\u001b[0m\u001b[1;33m-\u001b[0m\u001b[1;36m1\u001b[0m\u001b[1;33m]\u001b[0m\u001b[1;33m*\u001b[0m\u001b[1;33m(\u001b[0m\u001b[1;36m1\u001b[0m\u001b[1;33m+\u001b[0m\u001b[0mi\u001b[0m\u001b[1;33m)\u001b[0m\u001b[1;33m\u001b[0m\u001b[1;33m\u001b[0m\u001b[0m\n\u001b[0;32m     23\u001b[0m                 \u001b[0mtp1\u001b[0m \u001b[1;33m=\u001b[0m \u001b[0mself\u001b[0m\u001b[1;33m.\u001b[0m\u001b[0mdata\u001b[0m\u001b[1;33m.\u001b[0m\u001b[0mClose\u001b[0m\u001b[1;33m[\u001b[0m\u001b[1;33m-\u001b[0m\u001b[1;36m1\u001b[0m\u001b[1;33m]\u001b[0m\u001b[1;33m*\u001b[0m\u001b[1;33m(\u001b[0m\u001b[1;36m1\u001b[0m\u001b[1;33m-\u001b[0m\u001b[0mi\u001b[0m\u001b[1;33m*\u001b[0m\u001b[0mRiskRewardRatio\u001b[0m\u001b[1;33m)\u001b[0m\u001b[1;33m\u001b[0m\u001b[1;33m\u001b[0m\u001b[0m\n",
      "\u001b[1;32mc:\\Users\\tyler\\anaconda3\\lib\\site-packages\\backtesting\\_util.py\u001b[0m in \u001b[0;36m__bool__\u001b[1;34m(self)\u001b[0m\n\u001b[0;32m     68\u001b[0m \u001b[1;33m\u001b[0m\u001b[0m\n\u001b[0;32m     69\u001b[0m     \u001b[1;32mdef\u001b[0m \u001b[0m__bool__\u001b[0m\u001b[1;33m(\u001b[0m\u001b[0mself\u001b[0m\u001b[1;33m)\u001b[0m\u001b[1;33m:\u001b[0m\u001b[1;33m\u001b[0m\u001b[1;33m\u001b[0m\u001b[0m\n\u001b[1;32m---> 70\u001b[1;33m         \u001b[1;32mtry\u001b[0m\u001b[1;33m:\u001b[0m\u001b[1;33m\u001b[0m\u001b[1;33m\u001b[0m\u001b[0m\n\u001b[0m\u001b[0;32m     71\u001b[0m             \u001b[1;32mreturn\u001b[0m \u001b[0mbool\u001b[0m\u001b[1;33m(\u001b[0m\u001b[0mself\u001b[0m\u001b[1;33m[\u001b[0m\u001b[1;33m-\u001b[0m\u001b[1;36m1\u001b[0m\u001b[1;33m]\u001b[0m\u001b[1;33m)\u001b[0m\u001b[1;33m\u001b[0m\u001b[1;33m\u001b[0m\u001b[0m\n\u001b[0;32m     72\u001b[0m         \u001b[1;32mexcept\u001b[0m \u001b[0mIndexError\u001b[0m\u001b[1;33m:\u001b[0m\u001b[1;33m\u001b[0m\u001b[1;33m\u001b[0m\u001b[0m\n",
      "\u001b[1;31mKeyboardInterrupt\u001b[0m: "
     ]
    }
   ],
   "source": [
    "RiskRewardRatio = 8\n",
    "percentage = 0.00001\n",
    "\n",
    "for i in reversed(range(1, 100)):\n",
    "    i = i * 0.00001\n",
    "    def SIGNAL():\n",
    "        return data.signal\n",
    "    class MyCandlesStrat(Strategy):  \n",
    "        def init(self):\n",
    "            super().init()\n",
    "            self.signal1 = self.I(SIGNAL)\n",
    "\n",
    "        def next(self):\n",
    "            super().next() \n",
    "            if self.signal1==1:\n",
    "                sl1 =self.data.Close[-1]*(1-i)\n",
    "                tp1 = self.data.Close[-1]*(1+i*RiskRewardRatio)\n",
    "                # print(self.data.Close[-1],sl1,tp1)\n",
    "                self.buy(sl=sl1, tp=tp1)\n",
    "                \n",
    "            elif self.signal1==-1:\n",
    "                sl1 =self.data.Close[-1]*(1+i)\n",
    "                tp1 = self.data.Close[-1]*(1-i*RiskRewardRatio)\n",
    "                self.sell(sl=sl1, tp=tp1)\n",
    "\n",
    "    data_new = data.copy()                             # Create copy of pandas DataFrame\n",
    "    data_new['Datetime'] = pd.to_datetime(data_new['Datetime'])\n",
    "\n",
    "    data_new = data_new.set_index(pd.DatetimeIndex(data_new['Datetime']))\n",
    "\n",
    "    bt = Backtest(data_new, MyCandlesStrat, cash=1000000, commission=-0.00)\n",
    "    stat = bt.run()\n",
    "    print(i, ':' ,stat[8])\n",
    "\n"
   ]
  },
  {
   "cell_type": "code",
   "execution_count": 72,
   "id": "89dcbfcb-4986-4be4-b2d4-4b20812858b5",
   "metadata": {},
   "outputs": [],
   "source": [
    "RiskRewardRatio = 8\n",
    "percentage = 0.00031"
   ]
  },
  {
   "cell_type": "code",
   "execution_count": 73,
   "id": "331cadb0-6eb1-4cae-bbf8-a61df5ae88b5",
   "metadata": {},
   "outputs": [],
   "source": [
    "from backtesting import Strategy\n",
    "def SIGNAL():\n",
    "    return data.signal\n",
    "class MyCandlesStrat(Strategy):  \n",
    "    def init(self):\n",
    "        super().init()\n",
    "        self.signal1 = self.I(SIGNAL)\n",
    "\n",
    "    def next(self):\n",
    "        super().next() \n",
    "        if self.signal1==1:\n",
    "            sl1 =self.data.Close[-1]*(1-percentage)\n",
    "            tp1 = self.data.Close[-1]*(1+percentage*RiskRewardRatio)\n",
    "            # print(self.data.Close[-1],sl1,tp1)\n",
    "            self.buy(sl=sl1, tp=tp1)\n",
    "            \n",
    "        elif self.signal1==-1:\n",
    "            sl1 =self.data.Close[-1]*(1+percentage)\n",
    "            tp1 = self.data.Close[-1]*(1-percentage*RiskRewardRatio)\n",
    "            self.sell(sl=sl1, tp=tp1)"
   ]
  },
  {
   "cell_type": "code",
   "execution_count": 74,
   "id": "955b0868-7922-4e09-a1f6-da3730957cc8",
   "metadata": {},
   "outputs": [],
   "source": [
    "\n",
    "data_new = data.copy()                             # Create copy of pandas DataFrame\n",
    "data_new['Datetime'] = pd.to_datetime(data_new['Datetime'])"
   ]
  },
  {
   "cell_type": "code",
   "execution_count": 75,
   "id": "ee028800-f448-4936-bddc-731d474f010a",
   "metadata": {},
   "outputs": [
    {
     "data": {
      "text/html": [
       "<div>\n",
       "<style scoped>\n",
       "    .dataframe tbody tr th:only-of-type {\n",
       "        vertical-align: middle;\n",
       "    }\n",
       "\n",
       "    .dataframe tbody tr th {\n",
       "        vertical-align: top;\n",
       "    }\n",
       "\n",
       "    .dataframe thead th {\n",
       "        text-align: right;\n",
       "    }\n",
       "</style>\n",
       "<table border=\"1\" class=\"dataframe\">\n",
       "  <thead>\n",
       "    <tr style=\"text-align: right;\">\n",
       "      <th></th>\n",
       "      <th>Datetime</th>\n",
       "      <th>Open</th>\n",
       "      <th>High</th>\n",
       "      <th>Low</th>\n",
       "      <th>Close</th>\n",
       "      <th>Adj Close</th>\n",
       "      <th>Volume</th>\n",
       "      <th>ATR</th>\n",
       "      <th>ATR_Trailing_Stop</th>\n",
       "      <th>EMA</th>\n",
       "      <th>signal</th>\n",
       "    </tr>\n",
       "    <tr>\n",
       "      <th>Datetime</th>\n",
       "      <th></th>\n",
       "      <th></th>\n",
       "      <th></th>\n",
       "      <th></th>\n",
       "      <th></th>\n",
       "      <th></th>\n",
       "      <th></th>\n",
       "      <th></th>\n",
       "      <th></th>\n",
       "      <th></th>\n",
       "      <th></th>\n",
       "    </tr>\n",
       "  </thead>\n",
       "  <tbody>\n",
       "    <tr>\n",
       "      <th>2023-01-16 00:00:00-05:00</th>\n",
       "      <td>2023-01-16 00:00:00-05:00</td>\n",
       "      <td>1925.199951</td>\n",
       "      <td>1925.300049</td>\n",
       "      <td>1924.900024</td>\n",
       "      <td>1925.000000</td>\n",
       "      <td>1925.000000</td>\n",
       "      <td>0</td>\n",
       "      <td>NaN</td>\n",
       "      <td>0.000000</td>\n",
       "      <td>1925.000000</td>\n",
       "      <td>0</td>\n",
       "    </tr>\n",
       "    <tr>\n",
       "      <th>2023-01-16 00:01:00-05:00</th>\n",
       "      <td>2023-01-16 00:01:00-05:00</td>\n",
       "      <td>1924.900024</td>\n",
       "      <td>1924.900024</td>\n",
       "      <td>1924.500000</td>\n",
       "      <td>1924.599976</td>\n",
       "      <td>1924.599976</td>\n",
       "      <td>95</td>\n",
       "      <td>NaN</td>\n",
       "      <td>NaN</td>\n",
       "      <td>1924.599976</td>\n",
       "      <td>0</td>\n",
       "    </tr>\n",
       "    <tr>\n",
       "      <th>2023-01-16 00:02:00-05:00</th>\n",
       "      <td>2023-01-16 00:02:00-05:00</td>\n",
       "      <td>1924.599976</td>\n",
       "      <td>1924.599976</td>\n",
       "      <td>1923.900024</td>\n",
       "      <td>1923.900024</td>\n",
       "      <td>1923.900024</td>\n",
       "      <td>132</td>\n",
       "      <td>NaN</td>\n",
       "      <td>NaN</td>\n",
       "      <td>1923.900024</td>\n",
       "      <td>0</td>\n",
       "    </tr>\n",
       "    <tr>\n",
       "      <th>2023-01-16 00:03:00-05:00</th>\n",
       "      <td>2023-01-16 00:03:00-05:00</td>\n",
       "      <td>1923.900024</td>\n",
       "      <td>1924.099976</td>\n",
       "      <td>1923.800049</td>\n",
       "      <td>1923.800049</td>\n",
       "      <td>1923.800049</td>\n",
       "      <td>105</td>\n",
       "      <td>NaN</td>\n",
       "      <td>NaN</td>\n",
       "      <td>1923.800049</td>\n",
       "      <td>0</td>\n",
       "    </tr>\n",
       "    <tr>\n",
       "      <th>2023-01-16 00:04:00-05:00</th>\n",
       "      <td>2023-01-16 00:04:00-05:00</td>\n",
       "      <td>1923.800049</td>\n",
       "      <td>1923.800049</td>\n",
       "      <td>1923.300049</td>\n",
       "      <td>1923.300049</td>\n",
       "      <td>1923.300049</td>\n",
       "      <td>71</td>\n",
       "      <td>NaN</td>\n",
       "      <td>NaN</td>\n",
       "      <td>1923.300049</td>\n",
       "      <td>0</td>\n",
       "    </tr>\n",
       "    <tr>\n",
       "      <th>...</th>\n",
       "      <td>...</td>\n",
       "      <td>...</td>\n",
       "      <td>...</td>\n",
       "      <td>...</td>\n",
       "      <td>...</td>\n",
       "      <td>...</td>\n",
       "      <td>...</td>\n",
       "      <td>...</td>\n",
       "      <td>...</td>\n",
       "      <td>...</td>\n",
       "      <td>...</td>\n",
       "    </tr>\n",
       "    <tr>\n",
       "      <th>2023-02-10 16:55:00-05:00</th>\n",
       "      <td>2023-02-10 16:55:00-05:00</td>\n",
       "      <td>1876.099976</td>\n",
       "      <td>1876.400024</td>\n",
       "      <td>1876.000000</td>\n",
       "      <td>1876.300049</td>\n",
       "      <td>1876.300049</td>\n",
       "      <td>34</td>\n",
       "      <td>0.300012</td>\n",
       "      <td>1876.600061</td>\n",
       "      <td>1876.300049</td>\n",
       "      <td>-1</td>\n",
       "    </tr>\n",
       "    <tr>\n",
       "      <th>2023-02-10 16:56:00-05:00</th>\n",
       "      <td>2023-02-10 16:56:00-05:00</td>\n",
       "      <td>1876.300049</td>\n",
       "      <td>1876.500000</td>\n",
       "      <td>1876.199951</td>\n",
       "      <td>1876.300049</td>\n",
       "      <td>1876.300049</td>\n",
       "      <td>15</td>\n",
       "      <td>0.320020</td>\n",
       "      <td>1876.620068</td>\n",
       "      <td>1876.300049</td>\n",
       "      <td>0</td>\n",
       "    </tr>\n",
       "    <tr>\n",
       "      <th>2023-02-10 16:57:00-05:00</th>\n",
       "      <td>2023-02-10 16:57:00-05:00</td>\n",
       "      <td>1876.300049</td>\n",
       "      <td>1876.599976</td>\n",
       "      <td>1876.099976</td>\n",
       "      <td>1876.199951</td>\n",
       "      <td>1876.199951</td>\n",
       "      <td>58</td>\n",
       "      <td>0.370020</td>\n",
       "      <td>1876.569971</td>\n",
       "      <td>1876.199951</td>\n",
       "      <td>0</td>\n",
       "    </tr>\n",
       "    <tr>\n",
       "      <th>2023-02-10 16:58:00-05:00</th>\n",
       "      <td>2023-02-10 16:58:00-05:00</td>\n",
       "      <td>1876.099976</td>\n",
       "      <td>1876.300049</td>\n",
       "      <td>1876.000000</td>\n",
       "      <td>1876.300049</td>\n",
       "      <td>1876.300049</td>\n",
       "      <td>5</td>\n",
       "      <td>0.370032</td>\n",
       "      <td>1875.930017</td>\n",
       "      <td>1876.300049</td>\n",
       "      <td>1</td>\n",
       "    </tr>\n",
       "    <tr>\n",
       "      <th>2023-02-10 16:59:00-05:00</th>\n",
       "      <td>2023-02-10 16:59:00-05:00</td>\n",
       "      <td>1876.300049</td>\n",
       "      <td>1876.699951</td>\n",
       "      <td>1874.500000</td>\n",
       "      <td>1876.400024</td>\n",
       "      <td>1876.400024</td>\n",
       "      <td>150183</td>\n",
       "      <td>0.540027</td>\n",
       "      <td>1875.930017</td>\n",
       "      <td>1876.400024</td>\n",
       "      <td>0</td>\n",
       "    </tr>\n",
       "  </tbody>\n",
       "</table>\n",
       "<p>27299 rows × 11 columns</p>\n",
       "</div>"
      ],
      "text/plain": [
       "                                           Datetime         Open         High  \\\n",
       "Datetime                                                                        \n",
       "2023-01-16 00:00:00-05:00 2023-01-16 00:00:00-05:00  1925.199951  1925.300049   \n",
       "2023-01-16 00:01:00-05:00 2023-01-16 00:01:00-05:00  1924.900024  1924.900024   \n",
       "2023-01-16 00:02:00-05:00 2023-01-16 00:02:00-05:00  1924.599976  1924.599976   \n",
       "2023-01-16 00:03:00-05:00 2023-01-16 00:03:00-05:00  1923.900024  1924.099976   \n",
       "2023-01-16 00:04:00-05:00 2023-01-16 00:04:00-05:00  1923.800049  1923.800049   \n",
       "...                                             ...          ...          ...   \n",
       "2023-02-10 16:55:00-05:00 2023-02-10 16:55:00-05:00  1876.099976  1876.400024   \n",
       "2023-02-10 16:56:00-05:00 2023-02-10 16:56:00-05:00  1876.300049  1876.500000   \n",
       "2023-02-10 16:57:00-05:00 2023-02-10 16:57:00-05:00  1876.300049  1876.599976   \n",
       "2023-02-10 16:58:00-05:00 2023-02-10 16:58:00-05:00  1876.099976  1876.300049   \n",
       "2023-02-10 16:59:00-05:00 2023-02-10 16:59:00-05:00  1876.300049  1876.699951   \n",
       "\n",
       "                                   Low        Close    Adj Close  Volume  \\\n",
       "Datetime                                                                   \n",
       "2023-01-16 00:00:00-05:00  1924.900024  1925.000000  1925.000000       0   \n",
       "2023-01-16 00:01:00-05:00  1924.500000  1924.599976  1924.599976      95   \n",
       "2023-01-16 00:02:00-05:00  1923.900024  1923.900024  1923.900024     132   \n",
       "2023-01-16 00:03:00-05:00  1923.800049  1923.800049  1923.800049     105   \n",
       "2023-01-16 00:04:00-05:00  1923.300049  1923.300049  1923.300049      71   \n",
       "...                                ...          ...          ...     ...   \n",
       "2023-02-10 16:55:00-05:00  1876.000000  1876.300049  1876.300049      34   \n",
       "2023-02-10 16:56:00-05:00  1876.199951  1876.300049  1876.300049      15   \n",
       "2023-02-10 16:57:00-05:00  1876.099976  1876.199951  1876.199951      58   \n",
       "2023-02-10 16:58:00-05:00  1876.000000  1876.300049  1876.300049       5   \n",
       "2023-02-10 16:59:00-05:00  1874.500000  1876.400024  1876.400024  150183   \n",
       "\n",
       "                                ATR  ATR_Trailing_Stop          EMA  signal  \n",
       "Datetime                                                                     \n",
       "2023-01-16 00:00:00-05:00       NaN           0.000000  1925.000000       0  \n",
       "2023-01-16 00:01:00-05:00       NaN                NaN  1924.599976       0  \n",
       "2023-01-16 00:02:00-05:00       NaN                NaN  1923.900024       0  \n",
       "2023-01-16 00:03:00-05:00       NaN                NaN  1923.800049       0  \n",
       "2023-01-16 00:04:00-05:00       NaN                NaN  1923.300049       0  \n",
       "...                             ...                ...          ...     ...  \n",
       "2023-02-10 16:55:00-05:00  0.300012        1876.600061  1876.300049      -1  \n",
       "2023-02-10 16:56:00-05:00  0.320020        1876.620068  1876.300049       0  \n",
       "2023-02-10 16:57:00-05:00  0.370020        1876.569971  1876.199951       0  \n",
       "2023-02-10 16:58:00-05:00  0.370032        1875.930017  1876.300049       1  \n",
       "2023-02-10 16:59:00-05:00  0.540027        1875.930017  1876.400024       0  \n",
       "\n",
       "[27299 rows x 11 columns]"
      ]
     },
     "execution_count": 75,
     "metadata": {},
     "output_type": "execute_result"
    }
   ],
   "source": [
    "data_new = data_new.set_index(pd.DatetimeIndex(data_new['Datetime']))\n",
    "data_new"
   ]
  },
  {
   "cell_type": "code",
   "execution_count": 76,
   "id": "4ef0c898-5d1e-4634-89ac-1488180b89f4",
   "metadata": {},
   "outputs": [
    {
     "name": "stderr",
     "output_type": "stream",
     "text": [
      "C:\\Users\\tyler\\AppData\\Local\\Temp\\ipykernel_34040\\1233701645.py:3: UserWarning: Data index is not sorted in ascending order. Sorting.\n",
      "  bt = Backtest(data_new, MyCandlesStrat, cash=1000000, commission=-0.00)\n"
     ]
    },
    {
     "name": "stdout",
     "output_type": "stream",
     "text": [
      "Start                     2023-01-16 00:00...\n",
      "End                       2023-02-10 16:59...\n",
      "Duration                     25 days 16:59:00\n",
      "Exposure Time [%]                   93.538225\n",
      "Equity Final [$]               1157938.974715\n",
      "Equity Peak [$]                1165306.776386\n",
      "Return [%]                          15.793897\n",
      "Buy & Hold Return [%]               -2.524674\n",
      "Return (Ann.) [%]                  710.707185\n",
      "Volatility (Ann.) [%]              210.528232\n",
      "Sharpe Ratio                         3.375828\n",
      "Sortino Ratio                       72.471242\n",
      "Calmar Ratio                       182.131929\n",
      "Max. Drawdown [%]                   -3.902156\n",
      "Avg. Drawdown [%]                   -0.135909\n",
      "Max. Drawdown Duration        4 days 22:39:00\n",
      "Avg. Drawdown Duration        0 days 02:40:00\n",
      "# Trades                                 3151\n",
      "Win Rate [%]                         31.16471\n",
      "Best Trade [%]                        2.68926\n",
      "Worst Trade [%]                     -0.850759\n",
      "Avg. Trade [%]                       0.019852\n",
      "Max. Trade Duration           4 days 00:15:00\n",
      "Avg. Trade Duration           0 days 00:25:00\n",
      "Profit Factor                        1.858201\n",
      "Expectancy [%]                       0.019919\n",
      "SQN                                  2.476768\n",
      "_strategy                      MyCandlesStrat\n",
      "_equity_curve                             ...\n",
      "_trades                         Size  Entr...\n",
      "dtype: object\n"
     ]
    }
   ],
   "source": [
    "from backtesting import Backtest\n",
    "\n",
    "bt = Backtest(data_new, MyCandlesStrat, cash=1000000, commission=-0.00)\n",
    "stat = bt.run()\n",
    "print(stat)"
   ]
  },
  {
   "cell_type": "code",
   "execution_count": 45,
   "id": "8bf4e79e-b9fa-4315-b6c8-402ca92d4fe8",
   "metadata": {},
   "outputs": [
    {
     "name": "stdout",
     "output_type": "stream",
     "text": [
      "Start                     2023-01-16 00:00...\n",
      "End                       2023-02-10 16:59...\n",
      "Duration                     25 days 16:59:00\n",
      "Exposure Time [%]                   99.249057\n",
      "Equity Final [$]                 954267.75376\n",
      "Equity Peak [$]                1033993.193356\n",
      "Return [%]                          -4.573225\n",
      "Buy & Hold Return [%]               -2.524674\n",
      "Return (Ann.) [%]                  -53.950257\n",
      "Volatility (Ann.) [%]                 12.4782\n",
      "Sharpe Ratio                              0.0\n",
      "Sortino Ratio                             0.0\n",
      "Calmar Ratio                              0.0\n",
      "Max. Drawdown [%]                   -8.374944\n",
      "Avg. Drawdown [%]                   -0.230929\n",
      "Max. Drawdown Duration       10 days 09:20:00\n",
      "Avg. Drawdown Duration        0 days 07:48:00\n",
      "# Trades                                 1332\n",
      "Win Rate [%]                          49.6997\n",
      "Best Trade [%]                       2.845318\n",
      "Worst Trade [%]                     -0.923419\n",
      "Avg. Trade [%]                        0.12946\n",
      "Max. Trade Duration           4 days 15:36:00\n",
      "Avg. Trade Duration           0 days 05:23:00\n",
      "Profit Factor                        3.761249\n",
      "Expectancy [%]                         0.1301\n",
      "SQN                                 -1.024054\n",
      "_strategy                      MyCandlesStrat\n",
      "_equity_curve                             ...\n",
      "_trades                         Size  Entr...\n",
      "dtype: object\n"
     ]
    }
   ],
   "source": [
    "print(stat)"
   ]
  },
  {
   "cell_type": "code",
   "execution_count": 16,
   "id": "5f7c5785-a111-4289-a595-fc535886cabf",
   "metadata": {},
   "outputs": [
    {
     "name": "stderr",
     "output_type": "stream",
     "text": [
      "C:\\Users\\tyler\\anaconda3\\lib\\site-packages\\backtesting\\_plotting.py:122: UserWarning: Data contains too many candlesticks to plot; downsampling to '5T'. See `Backtest.plot(resample=...)`\n",
      "  warnings.warn(f\"Data contains too many candlesticks to plot; downsampling to {freq!r}. \"\n"
     ]
    },
    {
     "ename": "ValueError",
     "evalue": "Length of values (4) does not match length of index (2)",
     "output_type": "error",
     "traceback": [
      "\u001b[1;31m---------------------------------------------------------------------------\u001b[0m",
      "\u001b[1;31mValueError\u001b[0m                                Traceback (most recent call last)",
      "\u001b[1;32m~\\AppData\\Local\\Temp\\ipykernel_20164\\931764901.py\u001b[0m in \u001b[0;36m<module>\u001b[1;34m\u001b[0m\n\u001b[0;32m      1\u001b[0m \u001b[1;32mimport\u001b[0m \u001b[0mmatplotlib\u001b[0m\u001b[1;33m.\u001b[0m\u001b[0mpyplot\u001b[0m \u001b[1;32mas\u001b[0m \u001b[0mplt\u001b[0m\u001b[1;33m\u001b[0m\u001b[1;33m\u001b[0m\u001b[0m\n\u001b[1;32m----> 2\u001b[1;33m \u001b[0mbt\u001b[0m\u001b[1;33m.\u001b[0m\u001b[0mplot\u001b[0m\u001b[1;33m(\u001b[0m\u001b[1;33m)\u001b[0m\u001b[1;33m\u001b[0m\u001b[1;33m\u001b[0m\u001b[0m\n\u001b[0m",
      "\u001b[1;32m~\\anaconda3\\lib\\site-packages\\backtesting\\backtesting.py\u001b[0m in \u001b[0;36mplot\u001b[1;34m(self, results, filename, plot_width, plot_equity, plot_return, plot_pl, plot_volume, plot_drawdown, smooth_equity, relative_equity, superimpose, resample, reverse_indicators, show_legend, open_browser)\u001b[0m\n\u001b[0;32m   1590\u001b[0m             \u001b[0mresults\u001b[0m \u001b[1;33m=\u001b[0m \u001b[0mself\u001b[0m\u001b[1;33m.\u001b[0m\u001b[0m_results\u001b[0m\u001b[1;33m\u001b[0m\u001b[1;33m\u001b[0m\u001b[0m\n\u001b[0;32m   1591\u001b[0m \u001b[1;33m\u001b[0m\u001b[0m\n\u001b[1;32m-> 1592\u001b[1;33m         return plot(\n\u001b[0m\u001b[0;32m   1593\u001b[0m             \u001b[0mresults\u001b[0m\u001b[1;33m=\u001b[0m\u001b[0mresults\u001b[0m\u001b[1;33m,\u001b[0m\u001b[1;33m\u001b[0m\u001b[1;33m\u001b[0m\u001b[0m\n\u001b[0;32m   1594\u001b[0m             \u001b[0mdf\u001b[0m\u001b[1;33m=\u001b[0m\u001b[0mself\u001b[0m\u001b[1;33m.\u001b[0m\u001b[0m_data\u001b[0m\u001b[1;33m,\u001b[0m\u001b[1;33m\u001b[0m\u001b[1;33m\u001b[0m\u001b[0m\n",
      "\u001b[1;32m~\\anaconda3\\lib\\site-packages\\backtesting\\_plotting.py\u001b[0m in \u001b[0;36mplot\u001b[1;34m(results, df, indicators, filename, plot_width, plot_equity, plot_return, plot_pl, plot_volume, plot_drawdown, smooth_equity, relative_equity, superimpose, resample, reverse_indicators, show_legend, open_browser)\u001b[0m\n\u001b[0;32m    201\u001b[0m     \u001b[1;31m# Limit data to max_candles\u001b[0m\u001b[1;33m\u001b[0m\u001b[1;33m\u001b[0m\u001b[0m\n\u001b[0;32m    202\u001b[0m     \u001b[1;32mif\u001b[0m \u001b[0mis_datetime_index\u001b[0m\u001b[1;33m:\u001b[0m\u001b[1;33m\u001b[0m\u001b[1;33m\u001b[0m\u001b[0m\n\u001b[1;32m--> 203\u001b[1;33m         df, indicators, equity_data, trades = _maybe_resample_data(\n\u001b[0m\u001b[0;32m    204\u001b[0m             resample, df, indicators, equity_data, trades)\n\u001b[0;32m    205\u001b[0m \u001b[1;33m\u001b[0m\u001b[0m\n",
      "\u001b[1;32m~\\anaconda3\\lib\\site-packages\\backtesting\\_plotting.py\u001b[0m in \u001b[0;36m_maybe_resample_data\u001b[1;34m(resample_rule, df, indicators, equity_data, trades)\u001b[0m\n\u001b[0;32m    151\u001b[0m \u001b[1;33m\u001b[0m\u001b[0m\n\u001b[0;32m    152\u001b[0m     \u001b[1;32mif\u001b[0m \u001b[0mlen\u001b[0m\u001b[1;33m(\u001b[0m\u001b[0mtrades\u001b[0m\u001b[1;33m)\u001b[0m\u001b[1;33m:\u001b[0m  \u001b[1;31m# Avoid pandas \"resampling on Int64 index\" error\u001b[0m\u001b[1;33m\u001b[0m\u001b[1;33m\u001b[0m\u001b[0m\n\u001b[1;32m--> 153\u001b[1;33m         trades = trades.assign(count=1).resample(freq, on='ExitTime', label='right').agg(dict(\n\u001b[0m\u001b[0;32m    154\u001b[0m             \u001b[0mTRADES_AGG\u001b[0m\u001b[1;33m,\u001b[0m\u001b[1;33m\u001b[0m\u001b[1;33m\u001b[0m\u001b[0m\n\u001b[0;32m    155\u001b[0m             \u001b[0mReturnPct\u001b[0m\u001b[1;33m=\u001b[0m\u001b[0m_weighted_returns\u001b[0m\u001b[1;33m,\u001b[0m\u001b[1;33m\u001b[0m\u001b[1;33m\u001b[0m\u001b[0m\n",
      "\u001b[1;32m~\\anaconda3\\lib\\site-packages\\pandas\\core\\resample.py\u001b[0m in \u001b[0;36maggregate\u001b[1;34m(self, func, *args, **kwargs)\u001b[0m\n\u001b[0;32m    345\u001b[0m     \u001b[1;32mdef\u001b[0m \u001b[0maggregate\u001b[0m\u001b[1;33m(\u001b[0m\u001b[0mself\u001b[0m\u001b[1;33m,\u001b[0m \u001b[0mfunc\u001b[0m\u001b[1;33m=\u001b[0m\u001b[1;32mNone\u001b[0m\u001b[1;33m,\u001b[0m \u001b[1;33m*\u001b[0m\u001b[0margs\u001b[0m\u001b[1;33m,\u001b[0m \u001b[1;33m**\u001b[0m\u001b[0mkwargs\u001b[0m\u001b[1;33m)\u001b[0m\u001b[1;33m:\u001b[0m\u001b[1;33m\u001b[0m\u001b[1;33m\u001b[0m\u001b[0m\n\u001b[0;32m    346\u001b[0m \u001b[1;33m\u001b[0m\u001b[0m\n\u001b[1;32m--> 347\u001b[1;33m         \u001b[0mresult\u001b[0m \u001b[1;33m=\u001b[0m \u001b[0mResamplerWindowApply\u001b[0m\u001b[1;33m(\u001b[0m\u001b[0mself\u001b[0m\u001b[1;33m,\u001b[0m \u001b[0mfunc\u001b[0m\u001b[1;33m,\u001b[0m \u001b[0margs\u001b[0m\u001b[1;33m=\u001b[0m\u001b[0margs\u001b[0m\u001b[1;33m,\u001b[0m \u001b[0mkwargs\u001b[0m\u001b[1;33m=\u001b[0m\u001b[0mkwargs\u001b[0m\u001b[1;33m)\u001b[0m\u001b[1;33m.\u001b[0m\u001b[0magg\u001b[0m\u001b[1;33m(\u001b[0m\u001b[1;33m)\u001b[0m\u001b[1;33m\u001b[0m\u001b[1;33m\u001b[0m\u001b[0m\n\u001b[0m\u001b[0;32m    348\u001b[0m         \u001b[1;32mif\u001b[0m \u001b[0mresult\u001b[0m \u001b[1;32mis\u001b[0m \u001b[1;32mNone\u001b[0m\u001b[1;33m:\u001b[0m\u001b[1;33m\u001b[0m\u001b[1;33m\u001b[0m\u001b[0m\n\u001b[0;32m    349\u001b[0m             \u001b[0mhow\u001b[0m \u001b[1;33m=\u001b[0m \u001b[0mfunc\u001b[0m\u001b[1;33m\u001b[0m\u001b[1;33m\u001b[0m\u001b[0m\n",
      "\u001b[1;32m~\\anaconda3\\lib\\site-packages\\pandas\\core\\apply.py\u001b[0m in \u001b[0;36magg\u001b[1;34m(self)\u001b[0m\n\u001b[0;32m    166\u001b[0m \u001b[1;33m\u001b[0m\u001b[0m\n\u001b[0;32m    167\u001b[0m         \u001b[1;32mif\u001b[0m \u001b[0mis_dict_like\u001b[0m\u001b[1;33m(\u001b[0m\u001b[0marg\u001b[0m\u001b[1;33m)\u001b[0m\u001b[1;33m:\u001b[0m\u001b[1;33m\u001b[0m\u001b[1;33m\u001b[0m\u001b[0m\n\u001b[1;32m--> 168\u001b[1;33m             \u001b[1;32mreturn\u001b[0m \u001b[0mself\u001b[0m\u001b[1;33m.\u001b[0m\u001b[0magg_dict_like\u001b[0m\u001b[1;33m(\u001b[0m\u001b[1;33m)\u001b[0m\u001b[1;33m\u001b[0m\u001b[1;33m\u001b[0m\u001b[0m\n\u001b[0m\u001b[0;32m    169\u001b[0m         \u001b[1;32melif\u001b[0m \u001b[0mis_list_like\u001b[0m\u001b[1;33m(\u001b[0m\u001b[0marg\u001b[0m\u001b[1;33m)\u001b[0m\u001b[1;33m:\u001b[0m\u001b[1;33m\u001b[0m\u001b[1;33m\u001b[0m\u001b[0m\n\u001b[0;32m    170\u001b[0m             \u001b[1;31m# we require a list, but not a 'str'\u001b[0m\u001b[1;33m\u001b[0m\u001b[1;33m\u001b[0m\u001b[0m\n",
      "\u001b[1;32m~\\anaconda3\\lib\\site-packages\\pandas\\core\\apply.py\u001b[0m in \u001b[0;36magg_dict_like\u001b[1;34m(self)\u001b[0m\n\u001b[0;32m    479\u001b[0m         \u001b[1;32melse\u001b[0m\u001b[1;33m:\u001b[0m\u001b[1;33m\u001b[0m\u001b[1;33m\u001b[0m\u001b[0m\n\u001b[0;32m    480\u001b[0m             \u001b[1;31m# key used for column selection and output\u001b[0m\u001b[1;33m\u001b[0m\u001b[1;33m\u001b[0m\u001b[0m\n\u001b[1;32m--> 481\u001b[1;33m             results = {\n\u001b[0m\u001b[0;32m    482\u001b[0m                 \u001b[0mkey\u001b[0m\u001b[1;33m:\u001b[0m \u001b[0mobj\u001b[0m\u001b[1;33m.\u001b[0m\u001b[0m_gotitem\u001b[0m\u001b[1;33m(\u001b[0m\u001b[0mkey\u001b[0m\u001b[1;33m,\u001b[0m \u001b[0mndim\u001b[0m\u001b[1;33m=\u001b[0m\u001b[1;36m1\u001b[0m\u001b[1;33m)\u001b[0m\u001b[1;33m.\u001b[0m\u001b[0magg\u001b[0m\u001b[1;33m(\u001b[0m\u001b[0mhow\u001b[0m\u001b[1;33m)\u001b[0m \u001b[1;32mfor\u001b[0m \u001b[0mkey\u001b[0m\u001b[1;33m,\u001b[0m \u001b[0mhow\u001b[0m \u001b[1;32min\u001b[0m \u001b[0marg\u001b[0m\u001b[1;33m.\u001b[0m\u001b[0mitems\u001b[0m\u001b[1;33m(\u001b[0m\u001b[1;33m)\u001b[0m\u001b[1;33m\u001b[0m\u001b[1;33m\u001b[0m\u001b[0m\n\u001b[0;32m    483\u001b[0m             }\n",
      "\u001b[1;32m~\\anaconda3\\lib\\site-packages\\pandas\\core\\apply.py\u001b[0m in \u001b[0;36m<dictcomp>\u001b[1;34m(.0)\u001b[0m\n\u001b[0;32m    480\u001b[0m             \u001b[1;31m# key used for column selection and output\u001b[0m\u001b[1;33m\u001b[0m\u001b[1;33m\u001b[0m\u001b[0m\n\u001b[0;32m    481\u001b[0m             results = {\n\u001b[1;32m--> 482\u001b[1;33m                 \u001b[0mkey\u001b[0m\u001b[1;33m:\u001b[0m \u001b[0mobj\u001b[0m\u001b[1;33m.\u001b[0m\u001b[0m_gotitem\u001b[0m\u001b[1;33m(\u001b[0m\u001b[0mkey\u001b[0m\u001b[1;33m,\u001b[0m \u001b[0mndim\u001b[0m\u001b[1;33m=\u001b[0m\u001b[1;36m1\u001b[0m\u001b[1;33m)\u001b[0m\u001b[1;33m.\u001b[0m\u001b[0magg\u001b[0m\u001b[1;33m(\u001b[0m\u001b[0mhow\u001b[0m\u001b[1;33m)\u001b[0m \u001b[1;32mfor\u001b[0m \u001b[0mkey\u001b[0m\u001b[1;33m,\u001b[0m \u001b[0mhow\u001b[0m \u001b[1;32min\u001b[0m \u001b[0marg\u001b[0m\u001b[1;33m.\u001b[0m\u001b[0mitems\u001b[0m\u001b[1;33m(\u001b[0m\u001b[1;33m)\u001b[0m\u001b[1;33m\u001b[0m\u001b[1;33m\u001b[0m\u001b[0m\n\u001b[0m\u001b[0;32m    483\u001b[0m             }\n\u001b[0;32m    484\u001b[0m \u001b[1;33m\u001b[0m\u001b[0m\n",
      "\u001b[1;32m~\\anaconda3\\lib\\site-packages\\pandas\\core\\groupby\\generic.py\u001b[0m in \u001b[0;36maggregate\u001b[1;34m(self, func, engine, engine_kwargs, *args, **kwargs)\u001b[0m\n\u001b[0;32m    285\u001b[0m \u001b[1;33m\u001b[0m\u001b[0m\n\u001b[0;32m    286\u001b[0m             \u001b[1;32mtry\u001b[0m\u001b[1;33m:\u001b[0m\u001b[1;33m\u001b[0m\u001b[1;33m\u001b[0m\u001b[0m\n\u001b[1;32m--> 287\u001b[1;33m                 \u001b[1;32mreturn\u001b[0m \u001b[0mself\u001b[0m\u001b[1;33m.\u001b[0m\u001b[0m_python_agg_general\u001b[0m\u001b[1;33m(\u001b[0m\u001b[0mfunc\u001b[0m\u001b[1;33m,\u001b[0m \u001b[1;33m*\u001b[0m\u001b[0margs\u001b[0m\u001b[1;33m,\u001b[0m \u001b[1;33m**\u001b[0m\u001b[0mkwargs\u001b[0m\u001b[1;33m)\u001b[0m\u001b[1;33m\u001b[0m\u001b[1;33m\u001b[0m\u001b[0m\n\u001b[0m\u001b[0;32m    288\u001b[0m             \u001b[1;32mexcept\u001b[0m \u001b[0mKeyError\u001b[0m\u001b[1;33m:\u001b[0m\u001b[1;33m\u001b[0m\u001b[1;33m\u001b[0m\u001b[0m\n\u001b[0;32m    289\u001b[0m                 \u001b[1;31m# TODO: KeyError is raised in _python_agg_general,\u001b[0m\u001b[1;33m\u001b[0m\u001b[1;33m\u001b[0m\u001b[0m\n",
      "\u001b[1;32m~\\anaconda3\\lib\\site-packages\\pandas\\core\\groupby\\groupby.py\u001b[0m in \u001b[0;36m_python_agg_general\u001b[1;34m(self, func, *args, **kwargs)\u001b[0m\n\u001b[0;32m   1488\u001b[0m             \u001b[1;32mtry\u001b[0m\u001b[1;33m:\u001b[0m\u001b[1;33m\u001b[0m\u001b[1;33m\u001b[0m\u001b[0m\n\u001b[0;32m   1489\u001b[0m                 \u001b[1;31m# if this function is invalid for this dtype, we will ignore it.\u001b[0m\u001b[1;33m\u001b[0m\u001b[1;33m\u001b[0m\u001b[0m\n\u001b[1;32m-> 1490\u001b[1;33m                 \u001b[0mresult\u001b[0m \u001b[1;33m=\u001b[0m \u001b[0mself\u001b[0m\u001b[1;33m.\u001b[0m\u001b[0mgrouper\u001b[0m\u001b[1;33m.\u001b[0m\u001b[0magg_series\u001b[0m\u001b[1;33m(\u001b[0m\u001b[0mobj\u001b[0m\u001b[1;33m,\u001b[0m \u001b[0mf\u001b[0m\u001b[1;33m)\u001b[0m\u001b[1;33m\u001b[0m\u001b[1;33m\u001b[0m\u001b[0m\n\u001b[0m\u001b[0;32m   1491\u001b[0m             \u001b[1;32mexcept\u001b[0m \u001b[0mTypeError\u001b[0m\u001b[1;33m:\u001b[0m\u001b[1;33m\u001b[0m\u001b[1;33m\u001b[0m\u001b[0m\n\u001b[0;32m   1492\u001b[0m                 \u001b[0mwarn_dropping_nuisance_columns_deprecated\u001b[0m\u001b[1;33m(\u001b[0m\u001b[0mtype\u001b[0m\u001b[1;33m(\u001b[0m\u001b[0mself\u001b[0m\u001b[1;33m)\u001b[0m\u001b[1;33m,\u001b[0m \u001b[1;34m\"agg\"\u001b[0m\u001b[1;33m)\u001b[0m\u001b[1;33m\u001b[0m\u001b[1;33m\u001b[0m\u001b[0m\n",
      "\u001b[1;32m~\\anaconda3\\lib\\site-packages\\pandas\\core\\groupby\\ops.py\u001b[0m in \u001b[0;36magg_series\u001b[1;34m(self, obj, func, preserve_dtype)\u001b[0m\n\u001b[0;32m    979\u001b[0m \u001b[1;33m\u001b[0m\u001b[0m\n\u001b[0;32m    980\u001b[0m         \u001b[1;32melse\u001b[0m\u001b[1;33m:\u001b[0m\u001b[1;33m\u001b[0m\u001b[1;33m\u001b[0m\u001b[0m\n\u001b[1;32m--> 981\u001b[1;33m             \u001b[0mresult\u001b[0m \u001b[1;33m=\u001b[0m \u001b[0mself\u001b[0m\u001b[1;33m.\u001b[0m\u001b[0m_aggregate_series_pure_python\u001b[0m\u001b[1;33m(\u001b[0m\u001b[0mobj\u001b[0m\u001b[1;33m,\u001b[0m \u001b[0mfunc\u001b[0m\u001b[1;33m)\u001b[0m\u001b[1;33m\u001b[0m\u001b[1;33m\u001b[0m\u001b[0m\n\u001b[0m\u001b[0;32m    982\u001b[0m \u001b[1;33m\u001b[0m\u001b[0m\n\u001b[0;32m    983\u001b[0m         \u001b[0mnpvalues\u001b[0m \u001b[1;33m=\u001b[0m \u001b[0mlib\u001b[0m\u001b[1;33m.\u001b[0m\u001b[0mmaybe_convert_objects\u001b[0m\u001b[1;33m(\u001b[0m\u001b[0mresult\u001b[0m\u001b[1;33m,\u001b[0m \u001b[0mtry_float\u001b[0m\u001b[1;33m=\u001b[0m\u001b[1;32mFalse\u001b[0m\u001b[1;33m)\u001b[0m\u001b[1;33m\u001b[0m\u001b[1;33m\u001b[0m\u001b[0m\n",
      "\u001b[1;32m~\\anaconda3\\lib\\site-packages\\pandas\\core\\groupby\\ops.py\u001b[0m in \u001b[0;36m_aggregate_series_pure_python\u001b[1;34m(self, obj, func)\u001b[0m\n\u001b[0;32m   1003\u001b[0m         \u001b[1;32mfor\u001b[0m \u001b[0mi\u001b[0m\u001b[1;33m,\u001b[0m \u001b[0mgroup\u001b[0m \u001b[1;32min\u001b[0m \u001b[0menumerate\u001b[0m\u001b[1;33m(\u001b[0m\u001b[0msplitter\u001b[0m\u001b[1;33m)\u001b[0m\u001b[1;33m:\u001b[0m\u001b[1;33m\u001b[0m\u001b[1;33m\u001b[0m\u001b[0m\n\u001b[0;32m   1004\u001b[0m             \u001b[0mgroup\u001b[0m \u001b[1;33m=\u001b[0m \u001b[0mgroup\u001b[0m\u001b[1;33m.\u001b[0m\u001b[0m__finalize__\u001b[0m\u001b[1;33m(\u001b[0m\u001b[0mobj\u001b[0m\u001b[1;33m,\u001b[0m \u001b[0mmethod\u001b[0m\u001b[1;33m=\u001b[0m\u001b[1;34m\"groupby\"\u001b[0m\u001b[1;33m)\u001b[0m\u001b[1;33m\u001b[0m\u001b[1;33m\u001b[0m\u001b[0m\n\u001b[1;32m-> 1005\u001b[1;33m             \u001b[0mres\u001b[0m \u001b[1;33m=\u001b[0m \u001b[0mfunc\u001b[0m\u001b[1;33m(\u001b[0m\u001b[0mgroup\u001b[0m\u001b[1;33m)\u001b[0m\u001b[1;33m\u001b[0m\u001b[1;33m\u001b[0m\u001b[0m\n\u001b[0m\u001b[0;32m   1006\u001b[0m             \u001b[0mres\u001b[0m \u001b[1;33m=\u001b[0m \u001b[0mlibreduction\u001b[0m\u001b[1;33m.\u001b[0m\u001b[0mextract_result\u001b[0m\u001b[1;33m(\u001b[0m\u001b[0mres\u001b[0m\u001b[1;33m)\u001b[0m\u001b[1;33m\u001b[0m\u001b[1;33m\u001b[0m\u001b[0m\n\u001b[0;32m   1007\u001b[0m \u001b[1;33m\u001b[0m\u001b[0m\n",
      "\u001b[1;32m~\\anaconda3\\lib\\site-packages\\pandas\\core\\groupby\\groupby.py\u001b[0m in \u001b[0;36m<lambda>\u001b[1;34m(x)\u001b[0m\n\u001b[0;32m   1474\u001b[0m     \u001b[1;32mdef\u001b[0m \u001b[0m_python_agg_general\u001b[0m\u001b[1;33m(\u001b[0m\u001b[0mself\u001b[0m\u001b[1;33m,\u001b[0m \u001b[0mfunc\u001b[0m\u001b[1;33m,\u001b[0m \u001b[1;33m*\u001b[0m\u001b[0margs\u001b[0m\u001b[1;33m,\u001b[0m \u001b[1;33m**\u001b[0m\u001b[0mkwargs\u001b[0m\u001b[1;33m)\u001b[0m\u001b[1;33m:\u001b[0m\u001b[1;33m\u001b[0m\u001b[1;33m\u001b[0m\u001b[0m\n\u001b[0;32m   1475\u001b[0m         \u001b[0mfunc\u001b[0m \u001b[1;33m=\u001b[0m \u001b[0mcom\u001b[0m\u001b[1;33m.\u001b[0m\u001b[0mis_builtin_func\u001b[0m\u001b[1;33m(\u001b[0m\u001b[0mfunc\u001b[0m\u001b[1;33m)\u001b[0m\u001b[1;33m\u001b[0m\u001b[1;33m\u001b[0m\u001b[0m\n\u001b[1;32m-> 1476\u001b[1;33m         \u001b[0mf\u001b[0m \u001b[1;33m=\u001b[0m \u001b[1;32mlambda\u001b[0m \u001b[0mx\u001b[0m\u001b[1;33m:\u001b[0m \u001b[0mfunc\u001b[0m\u001b[1;33m(\u001b[0m\u001b[0mx\u001b[0m\u001b[1;33m,\u001b[0m \u001b[1;33m*\u001b[0m\u001b[0margs\u001b[0m\u001b[1;33m,\u001b[0m \u001b[1;33m**\u001b[0m\u001b[0mkwargs\u001b[0m\u001b[1;33m)\u001b[0m\u001b[1;33m\u001b[0m\u001b[1;33m\u001b[0m\u001b[0m\n\u001b[0m\u001b[0;32m   1477\u001b[0m \u001b[1;33m\u001b[0m\u001b[0m\n\u001b[0;32m   1478\u001b[0m         \u001b[1;31m# iterate through \"columns\" ex exclusions to populate output dict\u001b[0m\u001b[1;33m\u001b[0m\u001b[1;33m\u001b[0m\u001b[0m\n",
      "\u001b[1;32m~\\anaconda3\\lib\\site-packages\\backtesting\\_plotting.py\u001b[0m in \u001b[0;36mf\u001b[1;34m(s, new_index, bars)\u001b[0m\n\u001b[0;32m    145\u001b[0m             \u001b[1;32mif\u001b[0m \u001b[0ms\u001b[0m\u001b[1;33m.\u001b[0m\u001b[0msize\u001b[0m\u001b[1;33m:\u001b[0m\u001b[1;33m\u001b[0m\u001b[1;33m\u001b[0m\u001b[0m\n\u001b[0;32m    146\u001b[0m                 \u001b[1;31m# Via int64 because on pandas recently broken datetime\u001b[0m\u001b[1;33m\u001b[0m\u001b[1;33m\u001b[0m\u001b[0m\n\u001b[1;32m--> 147\u001b[1;33m                 \u001b[0mmean_time\u001b[0m \u001b[1;33m=\u001b[0m \u001b[0mint\u001b[0m\u001b[1;33m(\u001b[0m\u001b[0mbars\u001b[0m\u001b[1;33m.\u001b[0m\u001b[0mloc\u001b[0m\u001b[1;33m[\u001b[0m\u001b[0ms\u001b[0m\u001b[1;33m.\u001b[0m\u001b[0mindex\u001b[0m\u001b[1;33m]\u001b[0m\u001b[1;33m.\u001b[0m\u001b[0mview\u001b[0m\u001b[1;33m(\u001b[0m\u001b[0mint\u001b[0m\u001b[1;33m)\u001b[0m\u001b[1;33m.\u001b[0m\u001b[0mmean\u001b[0m\u001b[1;33m(\u001b[0m\u001b[1;33m)\u001b[0m\u001b[1;33m)\u001b[0m\u001b[1;33m\u001b[0m\u001b[1;33m\u001b[0m\u001b[0m\n\u001b[0m\u001b[0;32m    148\u001b[0m                 \u001b[0mnew_bar_idx\u001b[0m \u001b[1;33m=\u001b[0m \u001b[0mnew_index\u001b[0m\u001b[1;33m.\u001b[0m\u001b[0mget_loc\u001b[0m\u001b[1;33m(\u001b[0m\u001b[0mmean_time\u001b[0m\u001b[1;33m,\u001b[0m \u001b[0mmethod\u001b[0m\u001b[1;33m=\u001b[0m\u001b[1;34m'nearest'\u001b[0m\u001b[1;33m)\u001b[0m\u001b[1;33m\u001b[0m\u001b[1;33m\u001b[0m\u001b[0m\n\u001b[0;32m    149\u001b[0m                 \u001b[1;32mreturn\u001b[0m \u001b[0mnew_bar_idx\u001b[0m\u001b[1;33m\u001b[0m\u001b[1;33m\u001b[0m\u001b[0m\n",
      "\u001b[1;32m~\\anaconda3\\lib\\site-packages\\pandas\\core\\series.py\u001b[0m in \u001b[0;36mview\u001b[1;34m(self, dtype)\u001b[0m\n\u001b[0;32m    816\u001b[0m         \u001b[1;31m#  implementation\u001b[0m\u001b[1;33m\u001b[0m\u001b[1;33m\u001b[0m\u001b[0m\n\u001b[0;32m    817\u001b[0m         \u001b[0mres_values\u001b[0m \u001b[1;33m=\u001b[0m \u001b[0mself\u001b[0m\u001b[1;33m.\u001b[0m\u001b[0marray\u001b[0m\u001b[1;33m.\u001b[0m\u001b[0mview\u001b[0m\u001b[1;33m(\u001b[0m\u001b[0mdtype\u001b[0m\u001b[1;33m)\u001b[0m\u001b[1;33m\u001b[0m\u001b[1;33m\u001b[0m\u001b[0m\n\u001b[1;32m--> 818\u001b[1;33m         \u001b[0mres_ser\u001b[0m \u001b[1;33m=\u001b[0m \u001b[0mself\u001b[0m\u001b[1;33m.\u001b[0m\u001b[0m_constructor\u001b[0m\u001b[1;33m(\u001b[0m\u001b[0mres_values\u001b[0m\u001b[1;33m,\u001b[0m \u001b[0mindex\u001b[0m\u001b[1;33m=\u001b[0m\u001b[0mself\u001b[0m\u001b[1;33m.\u001b[0m\u001b[0mindex\u001b[0m\u001b[1;33m)\u001b[0m\u001b[1;33m\u001b[0m\u001b[1;33m\u001b[0m\u001b[0m\n\u001b[0m\u001b[0;32m    819\u001b[0m         \u001b[1;32mreturn\u001b[0m \u001b[0mres_ser\u001b[0m\u001b[1;33m.\u001b[0m\u001b[0m__finalize__\u001b[0m\u001b[1;33m(\u001b[0m\u001b[0mself\u001b[0m\u001b[1;33m,\u001b[0m \u001b[0mmethod\u001b[0m\u001b[1;33m=\u001b[0m\u001b[1;34m\"view\"\u001b[0m\u001b[1;33m)\u001b[0m\u001b[1;33m\u001b[0m\u001b[1;33m\u001b[0m\u001b[0m\n\u001b[0;32m    820\u001b[0m \u001b[1;33m\u001b[0m\u001b[0m\n",
      "\u001b[1;32m~\\anaconda3\\lib\\site-packages\\pandas\\core\\series.py\u001b[0m in \u001b[0;36m__init__\u001b[1;34m(self, data, index, dtype, name, copy, fastpath)\u001b[0m\n\u001b[0;32m    440\u001b[0m                 \u001b[0mindex\u001b[0m \u001b[1;33m=\u001b[0m \u001b[0mdefault_index\u001b[0m\u001b[1;33m(\u001b[0m\u001b[0mlen\u001b[0m\u001b[1;33m(\u001b[0m\u001b[0mdata\u001b[0m\u001b[1;33m)\u001b[0m\u001b[1;33m)\u001b[0m\u001b[1;33m\u001b[0m\u001b[1;33m\u001b[0m\u001b[0m\n\u001b[0;32m    441\u001b[0m             \u001b[1;32melif\u001b[0m \u001b[0mis_list_like\u001b[0m\u001b[1;33m(\u001b[0m\u001b[0mdata\u001b[0m\u001b[1;33m)\u001b[0m\u001b[1;33m:\u001b[0m\u001b[1;33m\u001b[0m\u001b[1;33m\u001b[0m\u001b[0m\n\u001b[1;32m--> 442\u001b[1;33m                 \u001b[0mcom\u001b[0m\u001b[1;33m.\u001b[0m\u001b[0mrequire_length_match\u001b[0m\u001b[1;33m(\u001b[0m\u001b[0mdata\u001b[0m\u001b[1;33m,\u001b[0m \u001b[0mindex\u001b[0m\u001b[1;33m)\u001b[0m\u001b[1;33m\u001b[0m\u001b[1;33m\u001b[0m\u001b[0m\n\u001b[0m\u001b[0;32m    443\u001b[0m \u001b[1;33m\u001b[0m\u001b[0m\n\u001b[0;32m    444\u001b[0m             \u001b[1;31m# create/copy the manager\u001b[0m\u001b[1;33m\u001b[0m\u001b[1;33m\u001b[0m\u001b[0m\n",
      "\u001b[1;32m~\\anaconda3\\lib\\site-packages\\pandas\\core\\common.py\u001b[0m in \u001b[0;36mrequire_length_match\u001b[1;34m(data, index)\u001b[0m\n\u001b[0;32m    555\u001b[0m     \"\"\"\n\u001b[0;32m    556\u001b[0m     \u001b[1;32mif\u001b[0m \u001b[0mlen\u001b[0m\u001b[1;33m(\u001b[0m\u001b[0mdata\u001b[0m\u001b[1;33m)\u001b[0m \u001b[1;33m!=\u001b[0m \u001b[0mlen\u001b[0m\u001b[1;33m(\u001b[0m\u001b[0mindex\u001b[0m\u001b[1;33m)\u001b[0m\u001b[1;33m:\u001b[0m\u001b[1;33m\u001b[0m\u001b[1;33m\u001b[0m\u001b[0m\n\u001b[1;32m--> 557\u001b[1;33m         raise ValueError(\n\u001b[0m\u001b[0;32m    558\u001b[0m             \u001b[1;34m\"Length of values \"\u001b[0m\u001b[1;33m\u001b[0m\u001b[1;33m\u001b[0m\u001b[0m\n\u001b[0;32m    559\u001b[0m             \u001b[1;34mf\"({len(data)}) \"\u001b[0m\u001b[1;33m\u001b[0m\u001b[1;33m\u001b[0m\u001b[0m\n",
      "\u001b[1;31mValueError\u001b[0m: Length of values (4) does not match length of index (2)"
     ]
    }
   ],
   "source": [
    "import matplotlib.pyplot as plt\n",
    "bt.plot()"
   ]
  },
  {
   "cell_type": "code",
   "execution_count": null,
   "id": "03bdd498",
   "metadata": {},
   "outputs": [],
   "source": []
  }
 ],
 "metadata": {
  "kernelspec": {
   "display_name": "Python 3 (ipykernel)",
   "language": "python",
   "name": "python3"
  },
  "language_info": {
   "codemirror_mode": {
    "name": "ipython",
    "version": 3
   },
   "file_extension": ".py",
   "mimetype": "text/x-python",
   "name": "python",
   "nbconvert_exporter": "python",
   "pygments_lexer": "ipython3",
   "version": "3.9.13"
  }
 },
 "nbformat": 4,
 "nbformat_minor": 5
}
